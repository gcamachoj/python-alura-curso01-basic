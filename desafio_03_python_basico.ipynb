{
  "nbformat": 4,
  "nbformat_minor": 0,
  "metadata": {
    "colab": {
      "provenance": [],
      "authorship_tag": "ABX9TyPPRPVf1REQuVRp97zPFYUJ",
      "include_colab_link": true
    },
    "kernelspec": {
      "name": "python3",
      "display_name": "Python 3"
    },
    "language_info": {
      "name": "python"
    }
  },
  "cells": [
    {
      "cell_type": "markdown",
      "metadata": {
        "id": "view-in-github",
        "colab_type": "text"
      },
      "source": [
        "<a href=\"https://colab.research.google.com/github/gcamachoj/python-alura-curso01-basic/blob/main/Desafio_03_python_basico.ipynb\" target=\"_parent\"><img src=\"https://colab.research.google.com/assets/colab-badge.svg\" alt=\"Open In Colab\"/></a>"
      ]
    },
    {
      "cell_type": "markdown",
      "source": [
        "# Desafio 03 - Python Básico - Alura - Condicionales"
      ],
      "metadata": {
        "id": "WABvaOujNkL4"
      }
    },
    {
      "cell_type": "markdown",
      "source": [
        "**Este desafío no incluye funciones ni POO. Se ha desarrollado usado solamente temática de variables y condicionales que es lo visto hasta la sección 3 del curso 01 básico de python.  Esto con fin de reforzar los conocimientos en estas temáticas.**"
      ],
      "metadata": {
        "id": "Clat8sk3kCXd"
      }
    },
    {
      "cell_type": "markdown",
      "source": [
        "Vamos practicar el uso de estructuras condicionales como el if, else y elif a través de algunas actividades. Ahora que estamos avanzando en los contenidos, podemos hacer los desafíos más interesantes: ¡trabajaremos en proyectos de código! Resuelve los problemas iniciales para prepararte para los proyectos:\n",
        "\n",
        "Entrenando la programación"
      ],
      "metadata": {
        "id": "LnDf0d4VNtMF"
      }
    },
    {
      "cell_type": "markdown",
      "source": [
        "1 - Escribe un programa que pida a la persona usuaria que proporcione dos números y muestre el número más grande."
      ],
      "metadata": {
        "id": "FUsznJlBNwAh"
      }
    },
    {
      "cell_type": "code",
      "execution_count": null,
      "metadata": {
        "colab": {
          "base_uri": "https://localhost:8080/"
        },
        "id": "_YVw7XPBNVGA",
        "outputId": "33e1bdcc-f250-47fb-c7ee-34c894aba3f2"
      },
      "outputs": [
        {
          "output_type": "stream",
          "name": "stdout",
          "text": [
            "Ingrese un número:4\n",
            "Ingrese otro número: 4\n",
            "Los dos números son iguales\n"
          ]
        }
      ],
      "source": [
        "num_1 = int(input('Ingrese un número:'))\n",
        "num_2 = int(input('Ingrese otro número: '))\n",
        "if num_1 > num_2:\n",
        "  print(f'El número más grande es {num_1}')\n",
        "elif num_2 > num_1:\n",
        "  print (f'El número más grande es {num_2}')\n",
        "else:\n",
        "  print('Los dos números son iguales')"
      ]
    },
    {
      "cell_type": "markdown",
      "source": [
        "2 - Escribe un programa que solicite el porcentaje de crecimiento de producción de una empresa e informe si hubo un crecimiento (porcentaje positivo) o una disminución (porcentaje negativo)."
      ],
      "metadata": {
        "id": "2ZzoXLH2IeBH"
      }
    },
    {
      "cell_type": "code",
      "source": [
        "porcentaje_crecimiento = float(input('Ingrese el porcentaje  de crecimiento de produccion'))\n",
        "if(porcentaje_crecimiento>0):\n",
        "  print('Hubo crecimiento, (porcentaje positivo).')\n",
        "elif (porcentaje_crecimiento<0):\n",
        "  print('Disminución del porcentaje de producción.')\n",
        "else:\n",
        "  print('Se mantuvo igual el crecimiento de la producción.')"
      ],
      "metadata": {
        "colab": {
          "base_uri": "https://localhost:8080/"
        },
        "id": "sFi6LoEYIgAc",
        "outputId": "8de03373-a27a-4075-abe6-06645321bd69"
      },
      "execution_count": null,
      "outputs": [
        {
          "output_type": "stream",
          "name": "stdout",
          "text": [
            "Ingrese el porcentaje  de crecimiento de produccion-0.2\n",
            "Disminución del porcentaje de producción.\n"
          ]
        }
      ]
    },
    {
      "cell_type": "markdown",
      "source": [
        "3 - Escribe un programa que determine si una letra proporcionada por la persona usuaria es una vocal o una consonante."
      ],
      "metadata": {
        "id": "WOeE7g7iJv3q"
      }
    },
    {
      "cell_type": "code",
      "source": [
        "letra = input('Ingrese una letra: ')\n",
        "if(letra.lower() in ('a','e','i','o','u')):\n",
        "  print(f'La letra \\'{letra}\\' es una vocal')\n",
        "else:\n",
        "  print(f'La letra \\'{letra}\\' no es una vocal')"
      ],
      "metadata": {
        "colab": {
          "base_uri": "https://localhost:8080/"
        },
        "id": "hsCoUXjTJw8l",
        "outputId": "3152bc1d-dca7-4990-92f4-31fb7e604672"
      },
      "execution_count": null,
      "outputs": [
        {
          "output_type": "stream",
          "name": "stdout",
          "text": [
            "Ingrese una letra: s\n",
            "La letra 's' no es una vocal\n"
          ]
        }
      ]
    },
    {
      "cell_type": "markdown",
      "source": [
        "\n",
        "4 - Escribe un programa que lea valores promedio de precios de un modelo de automóvil durante 3 años consecutivos y muestre el valor más alto y más bajo entre esos tres años."
      ],
      "metadata": {
        "id": "3Yka8hrjMT8b"
      }
    },
    {
      "cell_type": "code",
      "source": [
        "precio_ano_1 = int(input('Ingrese el precio del año 1: '))\n",
        "precio_ano_2 = int(input('Ingrese el precio del año 2: '))\n",
        "precio_ano_3 = int(input('Ingrese el precio del año 3: '))\n",
        "\n",
        "precios = [precio_ano_1, precio_ano_2, precio_ano_3]\n",
        "precio_max = max(precios)\n",
        "precio_min = min(precios)\n",
        "print(f'EL precio máximo es: {precio_max}')\n",
        "print(f'EL precio mínimo es: {precio_min}')"
      ],
      "metadata": {
        "colab": {
          "base_uri": "https://localhost:8080/"
        },
        "id": "BlASqPAVMVVN",
        "outputId": "2a754556-6a54-4fc5-84a9-828932d04fe0"
      },
      "execution_count": null,
      "outputs": [
        {
          "output_type": "stream",
          "name": "stdout",
          "text": [
            "Ingrese el precio del año 1: 34\n",
            "Ingrese el precio del año 2: 23\n",
            "Ingrese el precio del año 3: 3\n",
            "EL precio máximo es 34\n",
            "EL precio mínimo es 3\n"
          ]
        }
      ]
    },
    {
      "cell_type": "markdown",
      "source": [
        "5 - Escribe un programa que pregunte sobre el precio de tres productos e indique cuál es el producto más barato para comprar."
      ],
      "metadata": {
        "id": "PIBQ40LpN6n5"
      }
    },
    {
      "cell_type": "code",
      "source": [
        "precio_producto_1 = int(input('Ingrese el precio del producto 1: '))\n",
        "precio_producto_2 = int(input('Ingrese el precio del producto 2: '))\n",
        "precio_producto_3 = int(input('Ingrese el precio del producto 3: '))\n",
        "\n",
        "precios_productos = [precio_producto_1, precio_producto_2, precio_producto_3]\n",
        "precio_pr_min = min(precios_productos)\n",
        "print(f'EL producto más barato para comprar es: {precio_pr_min}')\n"
      ],
      "metadata": {
        "colab": {
          "base_uri": "https://localhost:8080/"
        },
        "id": "gVRWARjvN7ur",
        "outputId": "3e19b8f8-2a0d-4b59-c714-c212fa047c3e"
      },
      "execution_count": null,
      "outputs": [
        {
          "output_type": "stream",
          "name": "stdout",
          "text": [
            "Ingrese el precio del producto 1: 34\n",
            "Ingrese el precio del producto 2: 44\n",
            "Ingrese el precio del producto 3: 555\n",
            "EL producto más barato para comprar es: 34\n"
          ]
        }
      ]
    },
    {
      "cell_type": "markdown",
      "source": [
        "6 - Escribe un programa que lea tres números y los muestre en orden descendente."
      ],
      "metadata": {
        "id": "JPI8uw5VOhhe"
      }
    },
    {
      "cell_type": "code",
      "source": [
        "num_1 = int(input('Ingrese el primer número: '))\n",
        "num_2 = int(input('Ingrese el segundo número: '))\n",
        "num_3 = int(input('Ingrese el tercer número: '))\n",
        "\n",
        "if(num_1>num_2 and num_1>num_3):\n",
        "  print(num_1)\n",
        "  if(num_2>num_3):\n",
        "    print(num_2)\n",
        "    print(num_3)\n",
        "  else:\n",
        "    print(num_3)\n",
        "    print(num_2)\n",
        "elif(num_2> num_1 and num_2 > num_3):\n",
        "  print(num_2)\n",
        "  if(num_1 > num_3):\n",
        "    print(num_1)\n",
        "    print(num_3)\n",
        "  else:\n",
        "    print(num_3)\n",
        "    print(num_1)\n",
        "elif(num_3>num_1 and num_3 > num_2):\n",
        "  print(num_3)\n",
        "  if(num_1 > num_2):\n",
        "    print(num_1)\n",
        "    print(num_2)\n",
        "  else:\n",
        "    print(num_2)\n",
        "    print(num_1)"
      ],
      "metadata": {
        "colab": {
          "base_uri": "https://localhost:8080/"
        },
        "id": "lO5G6XAnOjG0",
        "outputId": "a5205ec5-86bd-4621-e642-0e8fa1523ea1"
      },
      "execution_count": null,
      "outputs": [
        {
          "output_type": "stream",
          "name": "stdout",
          "text": [
            "Ingrese el primer número: 3\n",
            "Ingrese el segundo número: 9\n",
            "Ingrese el tercer número: 7\n",
            "9\n",
            "7\n",
            "3\n"
          ]
        }
      ]
    },
    {
      "cell_type": "code",
      "source": [
        "num_1 = int(input('Ingrese el primer número: '))\n",
        "num_2 = int(input('Ingrese el segundo número: '))\n",
        "num_3 = int(input('Ingrese el tercer número: '))\n",
        "\n",
        "numeros = sorted([num_1, num_2, num_3], reverse=True)\n",
        "print(numeros)\n",
        "for numero in numeros:\n",
        "  print(numero)"
      ],
      "metadata": {
        "colab": {
          "base_uri": "https://localhost:8080/"
        },
        "id": "aTP8jDMmRJHH",
        "outputId": "55397011-87ab-4ddf-eecc-f7b5f7c78f42"
      },
      "execution_count": null,
      "outputs": [
        {
          "output_type": "stream",
          "name": "stdout",
          "text": [
            "Ingrese el primer número: 55\n",
            "Ingrese el segundo número: 666\n",
            "Ingrese el tercer número: 4\n",
            "[666, 55, 4]\n",
            "666\n",
            "55\n",
            "4\n"
          ]
        }
      ]
    },
    {
      "cell_type": "markdown",
      "source": [],
      "metadata": {
        "id": "-Fb-5O8uJswh"
      }
    },
    {
      "cell_type": "markdown",
      "source": [
        "7 -Escribe un programa que pregunte en qué turno estudia la persona usuaria (\"mañana\", \"tarde\" o \"noche\") y muestre el mensaje \"¡Buenos Días!\", \"¡Buenas Tardes!\", \"¡Buenas Noches!\" o \"Valor Inválido!\", según el caso."
      ],
      "metadata": {
        "id": "19thr5HPR8Oy"
      }
    },
    {
      "cell_type": "code",
      "source": [
        "turno = input('¿En qué turno estudias? (mañana / tarde / noche): ').lower()\n",
        "\n",
        "if turno == 'mañana':\n",
        "    print('¡Buenos días!')\n",
        "elif turno == 'tarde':\n",
        "    print('¡Buenas tardes!')\n",
        "elif turno == 'noche':\n",
        "    print('¡Buenas noches!')\n",
        "else:\n",
        "    print('¡Valor inválido!')"
      ],
      "metadata": {
        "colab": {
          "base_uri": "https://localhost:8080/"
        },
        "id": "zJCgSKS59g7C",
        "outputId": "276b048b-6e3e-4129-cdae-a0486b735673"
      },
      "execution_count": null,
      "outputs": [
        {
          "output_type": "stream",
          "name": "stdout",
          "text": [
            "¿En qué turno estudias? (mañana / tarde / noche): mañana\n",
            "¡Buenos días!\n"
          ]
        }
      ]
    },
    {
      "cell_type": "code",
      "source": [
        "turno = int(input('Ingrese el turno de trabajo: \\n1: Mañana  \\n2: Tarde \\n3: Noche \\n'))\n",
        "if turno==1:\n",
        "  print('Buenos días')\n",
        "elif turno==2:\n",
        "  print('Buenas tardes')\n",
        "elif turno==3:\n",
        "  print('Buenas noches')\n",
        "else:\n",
        "  print('No ingresaste una opcion de la lista.')"
      ],
      "metadata": {
        "id": "0nFw2VAXR9hB",
        "colab": {
          "base_uri": "https://localhost:8080/"
        },
        "outputId": "b4b658d0-b333-4f37-a9af-de59e15fdf9a"
      },
      "execution_count": null,
      "outputs": [
        {
          "output_type": "stream",
          "name": "stdout",
          "text": [
            "Ingrese el turno de trabajo: \n",
            "1: Mañana  \n",
            "2: Tarde \n",
            "3: Noche \n",
            "4\n",
            "No ingresaste una opcion de la lista.\n"
          ]
        }
      ]
    },
    {
      "cell_type": "markdown",
      "source": [
        "8 - Escribe un programa que solicite un número entero a la persona usuaria y determine si es par o impar. Pista: Puedes usar el operador módulo (%)."
      ],
      "metadata": {
        "id": "Nqp1wwWI9tqU"
      }
    },
    {
      "cell_type": "code",
      "source": [
        "numero_caso8 = int(input('Ingrese un número: '))\n",
        "if (numero_caso8%2 != 0):\n",
        "  print('El número es impar')\n",
        "else:\n",
        "  print('el número es par')"
      ],
      "metadata": {
        "colab": {
          "base_uri": "https://localhost:8080/"
        },
        "id": "rvwRWDjV9xT7",
        "outputId": "a6b4ae51-6b8d-4538-c76e-0aca44e39544"
      },
      "execution_count": null,
      "outputs": [
        {
          "output_type": "stream",
          "name": "stdout",
          "text": [
            "Ingrese un número: 5\n",
            "El número es impar\n"
          ]
        }
      ]
    },
    {
      "cell_type": "markdown",
      "source": [
        "9 - Escribe un programa que pida un número a la persona usuaria y le informe si es entero o decimal.\n"
      ],
      "metadata": {
        "id": "Qwfbzr8VAV_k"
      }
    },
    {
      "cell_type": "code",
      "source": [
        "numero_caso9 = float(input('Ingrese un número: '))\n",
        "if numero_caso9 == int(numero_caso9):\n",
        "  print('El número es entero')\n",
        "else:\n",
        "  print('El número es decimal')"
      ],
      "metadata": {
        "colab": {
          "base_uri": "https://localhost:8080/"
        },
        "id": "RJnqNWAxAXI6",
        "outputId": "8821fa75-0159-4e4c-b022-b80cdd61bd38"
      },
      "execution_count": null,
      "outputs": [
        {
          "output_type": "stream",
          "name": "stdout",
          "text": [
            "Ingrese un número: 5\n",
            "El número es entero\n"
          ]
        }
      ]
    },
    {
      "cell_type": "markdown",
      "source": [
        "## Momento de los proyectos:\n",
        "\n",
        "10 - Un programa debe ser escrito para leer dos números y luego preguntar a la persona usuaria qué operación desea realizar. El resultado de la operación debe incluir información sobre el número, si es par o impar, positivo o negativo, e entero o decimal."
      ],
      "metadata": {
        "id": "NP1lcfJiBY8c"
      }
    },
    {
      "cell_type": "code",
      "source": [
        "## Variables\n",
        "numero_1 = float(input('ingrese un numero: '))\n",
        "numero_2 = float(input('Ingrese otro número: '))\n",
        "operacion = int(input('Ingrese el numero de operación a realizar: \\n1: Suma \\t\\t2: Resta \\n3: Multiplicacion  \\t4: División\\n'))\n",
        "\n",
        "# Innicializar resultado:\n",
        "resultado = None\n",
        "\n",
        "## Operacion\n",
        "if(operacion==1):\n",
        "  resultado = numero_1 + numero_2\n",
        "  print(f'El resultado de la suma es {resultado}')\n",
        "elif(operacion ==2):\n",
        "  resultado = numero_1 - numero_2\n",
        "  print(f'EL resultado de la resta es {resultado}')\n",
        "elif(operacion ==3):\n",
        "  resultado = numero_1 * numero_2\n",
        "  print(f'El resultado de la multiplicación es: {resultado}')\n",
        "elif(operacion ==4):\n",
        "  if(numero_2 ==0):\n",
        "    print('No se puede dividir entre cero')\n",
        "  else:\n",
        "    resultado = numero_1 / numero_2\n",
        "    print(f'El resultado de la división es {resultado}')\n",
        "elif(operacion not in([1,2,3,4])):\n",
        "  print('No seleccionaste una operación de la lista. Finalizado')\n",
        "\n",
        "## Definiciones sobre el resultado si es un número válido:\n",
        "if resultado is not None:\n",
        "  if(resultado > 0):\n",
        "    print('El resultado es positivo')\n",
        "  elif(resultado < 0):\n",
        "    print('El resultado es negativo')\n",
        "  else:\n",
        "    print('EL resultado no es ni positivo ni negativo, es cero.')\n",
        "\n",
        "## Entero o decimal:\n",
        "  if (resultado == int(resultado)):\n",
        "    print('El resultado es entero')\n",
        "    if(resultado %2 == 0):\n",
        "      print('El resultado es un número par')\n",
        "    else:\n",
        "      print('El resultado es impar')\n",
        "  else:\n",
        "    print('El resultado es decimal')"
      ],
      "metadata": {
        "colab": {
          "base_uri": "https://localhost:8080/"
        },
        "id": "xYhKh_s0Be_l",
        "outputId": "0c23bf42-1969-4469-ab46-7a4f92a19d78"
      },
      "execution_count": 37,
      "outputs": [
        {
          "output_type": "stream",
          "name": "stdout",
          "text": [
            "ingrese un numero: 2\n",
            "Ingrese otro número: 6\n",
            "Ingrese el numero de operación a realizar: \n",
            "1: Suma \t\t2: Resta \n",
            "3: Multiplicacion  \t4: División\n",
            "2\n",
            "EL resultado de la resta es -4.0\n",
            "El resultado es negativo\n",
            "El resultado es entero\n",
            "El resultado es un número par\n"
          ]
        }
      ]
    },
    {
      "cell_type": "markdown",
      "source": [],
      "metadata": {
        "id": "poWULOw8AbN1"
      }
    },
    {
      "cell_type": "markdown",
      "source": [
        "11 - Escribe un programa que pida a la persona usuaria tres números que representan los lados de un triángulo. El programa debe informar si los valores pueden utilizarse para formar un triángulo y, en caso afirmativo, si es equilátero, isósceles o escaleno. Ten en cuenta algunas sugerencias:\n",
        "\n",
        "  \n",
        "Tres lados forman un triángulo cuando la suma de cualesquiera dos lados es mayor que el tercero;\n",
        "Triángulo Equilátero: tres lados iguales;\n",
        "Triángulo Isósceles: dos lados iguales;\n",
        "Triángulo Escaleno: tres lados diferentes."
      ],
      "metadata": {
        "id": "fdcB9utVK6dn"
      }
    },
    {
      "cell_type": "code",
      "source": [
        "print(\"========== Programa para validación de triángulos ==========\")\n",
        "print(\"===========================================================\")\n",
        "\n",
        "lado_1 = float(input('Ingrese el tamaño del lado 1: '))\n",
        "lado_2 = float(input('Ingrese el tamaño del lado 2: '))\n",
        "lado_3 = float(input('Ingrese el tamaño del lado 3: '))\n",
        "\n",
        "# Verificar si los lados pueden formar un triángulo\n",
        "if (lado_1 + lado_2 > lado_3 and\n",
        "    lado_1 + lado_3 > lado_2 and\n",
        "    lado_2 + lado_3 > lado_1):\n",
        "\n",
        "    print('✅ Los lados cumplen la condición para formar un triángulo.')\n",
        "\n",
        "    if lado_1 == lado_2 == lado_3:\n",
        "        print('🔺 Es un triángulo equilátero.')\n",
        "    elif lado_1 == lado_2 or lado_1 == lado_3 or lado_2 == lado_3:\n",
        "        print('🔺 Es un triángulo isósceles.')\n",
        "    else:\n",
        "        print('🔺 Es un triángulo escaleno.')\n",
        "else:\n",
        "    print('❌ Los lados no cumplen con la regla para formar un triángulo.')"
      ],
      "metadata": {
        "colab": {
          "base_uri": "https://localhost:8080/"
        },
        "id": "Hreamj2AK-bV",
        "outputId": "7853041d-62eb-4d64-d696-b847d26730d6"
      },
      "execution_count": 46,
      "outputs": [
        {
          "output_type": "stream",
          "name": "stdout",
          "text": [
            "========== Programa para validación de triángulos ==========\n",
            "===========================================================\n",
            "Ingrese el tamaño del lado 1: 3\n",
            "Ingrese el tamaño del lado 2: 4\n",
            "Ingrese el tamaño del lado 3: 5\n",
            "✅ Los lados cumplen la condición para formar un triángulo.\n",
            "🔺 Es un triángulo escaleno.\n"
          ]
        }
      ]
    },
    {
      "cell_type": "markdown",
      "source": [
        "12 - Un establecimiento está vendiendo combustibles con descuentos variables. Para el etanol, si la cantidad comprada es de hasta 15 litros, el descuento será del 2% por litro. En caso contrario, será del 4% por litro. Para el diésel, si la cantidad comprada es de hasta 15 litros, el descuento será del 3% por litro. En caso contrario, será del 5% por litro. El precio por litro de diésel es de R $ 2,00 y el precio por litro de etanol es de R \\$ 1,70. Escribe un programa que lea la cantidad de litros vendidos y el tipo de combustible (E para etanol y D para diésel) y calcule el valor a pagar por el cliente. Ten en cuenta algunas sugerencias:\n",
        "\n",
        "El valor del descuento será el producto del precio por litro, la cantidad de litros y el valor del descuento.\n",
        "El valor a pagar por un cliente será el resultado de la multiplicación del precio por litro por la cantidad de litros menos el valor del descuento resultante del cálculo."
      ],
      "metadata": {
        "id": "ZbyF42YeQdT9"
      }
    },
    {
      "cell_type": "code",
      "source": [
        "print('=== PROGRAMA PARA CALCULAR EL PRECIO A PAGAR DEL COMBUSTIBLE ===')\n",
        "print('================================================================')\n",
        "tipo_combustible = int(input('Ingrese el tipo de combustible a tanquerar: \\n1: Etanol  \\t2: Diesel\\n'))\n",
        "cantidad_litros = float(input('Ingrese la cantidad de combustible a tanquear: '))\n",
        "# Inicializamos variables\n",
        "descuento = None\n",
        "precio_litro = None\n",
        "total_bruto = None\n",
        "total_neto = None\n",
        "\n",
        "# Cálculos para Etanol:\n",
        "if(tipo_combustible == 1): # Etanol\n",
        "  precio_litro = 1.7\n",
        "  if(cantidad_litros>15):\n",
        "    descuento = 0.04\n",
        "  else:\n",
        "    descuento = 0.02\n",
        "\n",
        "# Cálculos para Diesel:\n",
        "elif(tipo_combustible == 2): # Diesel\n",
        "  precio_litro = 2.0\n",
        "  if(cantidad_litros>15):\n",
        "    descuento = 0.05\n",
        "  else:\n",
        "    descuento = 0.03\n",
        "\n",
        "# totales:\n",
        "total_bruto = precio_litro * cantidad_litros\n",
        "monto_descuento = total_bruto * descuento\n",
        "total_neto = total_bruto - monto_descuento\n",
        "\n",
        "print(f'Total bruto \\t\\t =$ {total_bruto:.2f}')\n",
        "print(f'Descuento \\t\\t =$ {descuento*100:.2f}%')\n",
        "print(f'Descuento calculado \\t =$ {monto_descuento:.2f}')\n",
        "print(f'Total a pagar \\t\\t =$ {total_neto:.2f}')\n"
      ],
      "metadata": {
        "colab": {
          "base_uri": "https://localhost:8080/"
        },
        "id": "_Eifhu1HRO3i",
        "outputId": "c4ed6552-2e2d-45af-8d20-5c9819df642b"
      },
      "execution_count": 53,
      "outputs": [
        {
          "output_type": "stream",
          "name": "stdout",
          "text": [
            "=== PROGRAMA PARA CALCULAR EL PRECIO A PAGAR DEL COMBUSTIBLE ===\n",
            "================================================================\n",
            "Ingrese el tipo de combustible a tanquerar: \n",
            "1: Etanol  \t2: Diesel\n",
            "1\n",
            "Ingrese la cantidad de combustible a tanquear: 30\n",
            "Total bruto \t\t =$ 51.0\n",
            "Descuento \t\t =$ 4.0%\n",
            "Descuento calculado \t =$ 1.2\n",
            "Total a pagar \t\t =$ 49.8\n"
          ]
        }
      ]
    },
    {
      "cell_type": "markdown",
      "source": [
        "13 - En una empresa de venta de bienes raíces, debes crear un código que analice los datos de ventas anuales para ayudar a la dirección en la toma de decisiones. El código debe recopilar los datos de cantidad de ventas durante los años 2022 y 2023 y calcular la variación porcentual. A partir del valor de la variación, se deben proporcionar las siguientes sugerencias:\n",
        "\n",
        "Para una variación superior al 20%: bonificación para el equipo de ventas.\n",
        "Para una variación entre el 2% y el 20%: pequeña bonificación para el equipo de ventas.\n",
        "Para una variación entre el 2% y el -10%: planificación de políticas de incentivo a las ventas.\n",
        "Para bonificaciones inferiores al -10%: recorte de gastos."
      ],
      "metadata": {
        "id": "Ma8k889NNe-r"
      }
    },
    {
      "cell_type": "code",
      "source": [
        "print('=== ANÁLISIS DE DATOS DE VENTAS ANUALES ===')\n",
        "ventas_2022 = float(input('Ingrese las ventas del año 2022: \\n'))\n",
        "ventas_2023 = float(input('Ingrese las ventas del año 2023: \\n'))\n",
        "\n",
        "variacion = (ventas_2023 - ventas_2022) / ventas_2022\n",
        "\n",
        "# Mostrar variación porcentual\n",
        "print(f'Variación porcentual: {variacion * 100:.2f}%')\n",
        "\n",
        "# Evaluación de la variación\n",
        "if variacion > 0.20:\n",
        "    print('Bonificación para el equipo de ventas.')\n",
        "elif 0.02 < variacion <= 0.20:\n",
        "    print('Pequeña bonificación para el equipo de ventas.')\n",
        "elif -0.10 <= variacion <= 0.02:\n",
        "    print('Planificación de políticas de incentivo a las ventas.')\n",
        "else:\n",
        "    print('Recorte de gastos.')"
      ],
      "metadata": {
        "id": "j-oHCUr0NgY8",
        "colab": {
          "base_uri": "https://localhost:8080/"
        },
        "outputId": "e57a0a8c-a511-48e5-c05f-0a14fe544b20"
      },
      "execution_count": 59,
      "outputs": [
        {
          "output_type": "stream",
          "name": "stdout",
          "text": [
            "=== ANÁLISIS DE DATOS DE VENTAS ANUALES ===\n",
            "Ingrese las ventas del año 2022: \n",
            "200\n",
            "Ingrese las ventas del año 2023: \n",
            "100\n",
            "Variación porcentual: -50.00%\n",
            "Recorte de gastos.\n"
          ]
        }
      ]
    }
  ]
}
