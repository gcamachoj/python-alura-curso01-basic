{
  "nbformat": 4,
  "nbformat_minor": 0,
  "metadata": {
    "colab": {
      "provenance": [],
      "authorship_tag": "ABX9TyOlh6Jl+8RG6c/S46u0fZJZ",
      "include_colab_link": true
    },
    "kernelspec": {
      "name": "python3",
      "display_name": "Python 3"
    },
    "language_info": {
      "name": "python"
    }
  },
  "cells": [
    {
      "cell_type": "markdown",
      "metadata": {
        "id": "view-in-github",
        "colab_type": "text"
      },
      "source": [
        "<a href=\"https://colab.research.google.com/github/gcamachoj/python-alura-curso01-basic/blob/main/desafio_01_basico.ipynb\" target=\"_parent\"><img src=\"https://colab.research.google.com/assets/colab-badge.svg\" alt=\"Open In Colab\"/></a>"
      ]
    },
    {
      "cell_type": "markdown",
      "source": [
        "# Desafío 01 - Básico\n",
        "\n"
      ],
      "metadata": {
        "id": "rqhaJEoPJ7Or"
      }
    },
    {
      "cell_type": "markdown",
      "source": [
        "**Este desafio solo está limitado a uso de funcion print y cadefnas string, no incluye aún temas de variables ni POO ni funciones. Lo anterior con fin de practicar estas habilidades. **"
      ],
      "metadata": {
        "id": "n1h6YIgUlMMp"
      }
    },
    {
      "cell_type": "markdown",
      "source": [
        "Vamos a practicar el uso de la función print con algunas actividades. Para ello, resuelve los problemas propuestos en código:\n",
        "\n"
      ],
      "metadata": {
        "id": "gJPIKNS_KApy"
      }
    },
    {
      "cell_type": "markdown",
      "source": [
        "1 - Imprime la frase \"Escuela de Datos de Alura\"."
      ],
      "metadata": {
        "id": "8CIDS6uvKDQH"
      }
    },
    {
      "cell_type": "code",
      "source": [
        "\"Escuela de Datos Alura\""
      ],
      "metadata": {
        "colab": {
          "base_uri": "https://localhost:8080/",
          "height": 35
        },
        "id": "aTZ9Pa3iKPiF",
        "outputId": "e8769deb-8c51-43c7-827d-b1866876c11e"
      },
      "execution_count": null,
      "outputs": [
        {
          "output_type": "execute_result",
          "data": {
            "text/plain": [
              "'Escuela de Datos Alura'"
            ],
            "application/vnd.google.colaboratory.intrinsic+json": {
              "type": "string"
            }
          },
          "metadata": {},
          "execution_count": 3
        }
      ]
    },
    {
      "cell_type": "markdown",
      "source": [
        "2 - Imprime tu nombre y tu apellido siguiendo la estructura a continuación:\n",
        "Nombre: [tu nombre]\n",
        "Apellido: [tu apellido]"
      ],
      "metadata": {
        "id": "26_jAComKiXm"
      }
    },
    {
      "cell_type": "code",
      "source": [
        "print(\"Nombre: Guillermo\")\n",
        "print(\"Apellido: Camacho\")"
      ],
      "metadata": {
        "colab": {
          "base_uri": "https://localhost:8080/"
        },
        "id": "Ru3uo_3aJ3sL",
        "outputId": "1a37c103-e163-47af-c85e-ffb3f053d122"
      },
      "execution_count": null,
      "outputs": [
        {
          "output_type": "stream",
          "name": "stdout",
          "text": [
            "Nombre: Guillermo\n",
            "Apellido: Camacho\n"
          ]
        }
      ]
    },
    {
      "cell_type": "markdown",
      "source": [
        "3 - Imprime tu primer nombre letra por letra. Por ejemplo, si mi nombre es Álvaro, la salida sería:\n"
      ],
      "metadata": {
        "id": "GGWktsxcKpDF"
      }
    },
    {
      "cell_type": "code",
      "source": [
        "print(*\"Guillermo\", sep=\"\\n\")\n"
      ],
      "metadata": {
        "colab": {
          "base_uri": "https://localhost:8080/"
        },
        "id": "3lTw6v9JKKxm",
        "outputId": "7b7a92ed-6df5-4190-8f8f-81ee87667f06"
      },
      "execution_count": null,
      "outputs": [
        {
          "output_type": "stream",
          "name": "stdout",
          "text": [
            "G\n",
            "u\n",
            "i\n",
            "l\n",
            "l\n",
            "e\n",
            "r\n",
            "m\n",
            "o\n"
          ]
        }
      ]
    },
    {
      "cell_type": "code",
      "source": [
        "print(\"G\\nU\\nI\\nL\\nL\\nE\\nR\\nM\\nO\")"
      ],
      "metadata": {
        "colab": {
          "base_uri": "https://localhost:8080/"
        },
        "id": "w9ziTPp9KtuW",
        "outputId": "997703ee-d219-402b-d2e5-585b0ba1a297"
      },
      "execution_count": null,
      "outputs": [
        {
          "output_type": "stream",
          "name": "stdout",
          "text": [
            "G\n",
            "U\n",
            "I\n",
            "L\n",
            "L\n",
            "E\n",
            "R\n",
            "M\n",
            "O\n"
          ]
        }
      ]
    },
    {
      "cell_type": "code",
      "source": [
        "nombre = \"GUILLERMO\"\n",
        "for letra in nombre:\n",
        "  print(letra)"
      ],
      "metadata": {
        "colab": {
          "base_uri": "https://localhost:8080/"
        },
        "id": "9iJNtUIjK1C9",
        "outputId": "353ed5a6-7a4c-43ac-ddc4-8e1271c9ca50"
      },
      "execution_count": null,
      "outputs": [
        {
          "output_type": "stream",
          "name": "stdout",
          "text": [
            "G\n",
            "U\n",
            "I\n",
            "L\n",
            "L\n",
            "E\n",
            "R\n",
            "M\n",
            "O\n"
          ]
        }
      ]
    },
    {
      "cell_type": "markdown",
      "source": [
        "4 - Imprime tu fecha de nacimiento en formato día mes año. Recuerda que los valores de día y año no deben estar entre comillas. Suponiendo una fecha de cumpleaños el 28 de febrero de 2003, el formato debe ser como el siguiente:\n",
        "\n",
        "28 febrero 2003"
      ],
      "metadata": {
        "id": "yZ0lRODcLQjK"
      }
    },
    {
      "cell_type": "code",
      "source": [
        "print(28, \"febrero\", 2023)"
      ],
      "metadata": {
        "colab": {
          "base_uri": "https://localhost:8080/"
        },
        "id": "YKfguErUK_9Q",
        "outputId": "5e7be263-b360-43fe-80fb-f43dd4fdf2dd"
      },
      "execution_count": null,
      "outputs": [
        {
          "output_type": "stream",
          "name": "stdout",
          "text": [
            "28 febrero 2023\n"
          ]
        }
      ]
    },
    {
      "cell_type": "markdown",
      "source": [
        "5 - Imprime, en una sola instrucción print, el año actual en el que estás realizando este curso. El valor del año debe ser un dato numérico, y la salida de print debe ser la siguiente:\n",
        "\n",
        "Año actual: [año]"
      ],
      "metadata": {
        "id": "ty-ZV8NYLe8W"
      }
    },
    {
      "cell_type": "code",
      "source": [
        "print(\"Año actual: \", 2025)"
      ],
      "metadata": {
        "colab": {
          "base_uri": "https://localhost:8080/"
        },
        "id": "EttBy3CdLa7q",
        "outputId": "434f3cbb-fd34-4a0d-b4ad-180a15838598"
      },
      "execution_count": null,
      "outputs": [
        {
          "output_type": "stream",
          "name": "stdout",
          "text": [
            "Año actual:  2025\n"
          ]
        }
      ]
    },
    {
      "cell_type": "code",
      "source": [],
      "metadata": {
        "id": "t0kFYTeGLobp"
      },
      "execution_count": null,
      "outputs": []
    }
  ]
}