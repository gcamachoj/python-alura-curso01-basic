{
  "cells": [
    {
      "cell_type": "markdown",
      "metadata": {
        "id": "view-in-github",
        "colab_type": "text"
      },
      "source": [
        "<a href=\"https://colab.research.google.com/github/gcamachoj/python-alura-curso01-basic/blob/main/desafio_05_python_basico_estructuras_datos.ipynb\" target=\"_parent\"><img src=\"https://colab.research.google.com/assets/colab-badge.svg\" alt=\"Open In Colab\"/></a>"
      ]
    },
    {
      "cell_type": "markdown",
      "metadata": {
        "id": "yzgM31KsV4Cw"
      },
      "source": [
        "# Desafio 05 - Python Básico - Alura - Estructuras de datos\n",
        "---"
      ]
    },
    {
      "cell_type": "markdown",
      "metadata": {
        "id": "FdTKmK2PWGZc"
      },
      "source": [
        "**Este desafío consta de realizar los ejercicios básicamente empleando los conociminentos vistos hasta este tema, los cuales incluyen: variables, condicionales, bucles y estructuras de datos. No incluye funciones definidas por el usuario ni POO.**\n"
      ]
    },
    {
      "cell_type": "markdown",
      "metadata": {
        "id": "cvuOYKToWhZQ"
      },
      "source": [
        "Vamos practicar el uso de estructuras de datos, como listas y diccionarios, a través de algunas actividades. Ahora que estamos avanzando en el contenido, podemos hacer los desafíos más interesantes. ¡Para ello, trabajaremos con proyectos de código!\n",
        "\n",
        "Primero, resolveremos algunos problemas para calentar y prepararnos para los proyectos.\n",
        "\n",
        "Entrenando la programación\n",
        "---"
      ]
    },
    {
      "cell_type": "markdown",
      "metadata": {
        "id": "KqMRcD3wXOlz"
      },
      "source": [
        "1 - Crea un programa que tenga la siguiente lista con los gastos de una empresa de papel [2172.54, 3701.35, 3518.09, 3456.61, 3249.38, 2840.82, 3891.45, 3075.26, 2317.64, 3219.08]. Con estos valores, crea un programa que calcule el promedio de gastos. Sugerencia: usa las funciones integradas sum() y len()."
      ]
    },
    {
      "cell_type": "code",
      "execution_count": null,
      "metadata": {
        "colab": {
          "base_uri": "https://localhost:8080/"
        },
        "id": "XNH7qaHGXQGs",
        "outputId": "d282c926-fc02-4cf5-cdb8-58ee86a267ec"
      },
      "outputs": [
        {
          "name": "stdout",
          "output_type": "stream",
          "text": [
            "El promedio de gastos es de: 3144.22\n"
          ]
        }
      ],
      "source": [
        "lista_gastos =  [2172.54, 3701.35, 3518.09, 3456.61, 3249.38, 2840.82, 3891.45, 3075.26, 2317.64, 3219.08]\n",
        "promedio_gastos = sum(lista_gastos)/len(lista_gastos)\n",
        "print(f'El promedio de gastos es de: {promedio_gastos:.2f}' )"
      ]
    },
    {
      "cell_type": "markdown",
      "metadata": {
        "id": "5yo2DlSXYi_b"
      },
      "source": [
        "2 - Con los mismos datos de la pregunta anterior, determina cuántas compras se realizaron por encima de 3000 reales y calcula el porcentaje con respecto al total de compras."
      ]
    },
    {
      "cell_type": "markdown",
      "metadata": {
        "id": "W6Cbqhe6ECRd"
      },
      "source": []
    },
    {
      "cell_type": "code",
      "execution_count": null,
      "metadata": {
        "colab": {
          "base_uri": "https://localhost:8080/"
        },
        "id": "UdvxKOabDxEd",
        "outputId": "267434cb-860d-4d5c-a409-bb47ad28ba8e"
      },
      "outputs": [
        {
          "name": "stdout",
          "output_type": "stream",
          "text": [
            "[3701.35, 3518.09, 3456.61, 3249.38, 3891.45, 3075.26, 3219.08]\n"
          ]
        },
        {
          "data": {
            "text/plain": [
              "0.7668421631805896"
            ]
          },
          "execution_count": 3,
          "metadata": {},
          "output_type": "execute_result"
        }
      ],
      "source": [
        "compras_mayores_3000_ = [x for x in lista_gastos if x >3000]\n",
        "print(compras_mayores_3000_)\n",
        "sum(compras_mayores_3000_)\n",
        "sum(compras_mayores_3000_)/sum(lista_gastos)"
      ]
    },
    {
      "cell_type": "code",
      "execution_count": null,
      "metadata": {
        "colab": {
          "base_uri": "https://localhost:8080/"
        },
        "id": "JLDMhC8WXP60",
        "outputId": "0033d1c6-3845-451c-ed83-b00426a0b4a0"
      },
      "outputs": [
        {
          "name": "stdout",
          "output_type": "stream",
          "text": [
            "[3701.35, 3518.09, 3456.61, 3249.38, 3891.45, 3075.26, 3219.08]\n",
            "Cantidad de compras mayores a 3000: 7\n",
            "La suma de compras mayores a 3000 es de [3701.35, 3518.09, 3456.61, 3249.38, 3891.45, 3075.26, 3219.08]\n",
            "El porcentaje de compras mayores a 3000 es de 76.68%\n"
          ]
        }
      ],
      "source": [
        "compras_mayores_3000 = [x for x in lista_gastos if x > 3000]\n",
        "print(compras_mayores_3000)\n",
        "print(f'Cantidad de compras mayores a 3000: {len(compras_mayores_3000)}')\n",
        "print(f'La suma de compras mayores a 3000 es de {compras_mayores_3000}')\n",
        "print(f'El porcentaje de compras mayores a 3000 es de {(sum(compras_mayores_3000)/sum(lista_gastos))*100:.2f}%')"
      ]
    },
    {
      "cell_type": "code",
      "execution_count": null,
      "metadata": {
        "colab": {
          "base_uri": "https://localhost:8080/"
        },
        "id": "RTsoMO2cfGML",
        "outputId": "5fb90876-8130-4290-eaf0-50bbaa282dd8"
      },
      "outputs": [
        {
          "data": {
            "text/plain": [
              "[3701.35, 3518.09, 3456.61, 3249.38, 3891.45, 3075.26, 3219.08]"
            ]
          },
          "execution_count": 7,
          "metadata": {},
          "output_type": "execute_result"
        }
      ],
      "source": [
        "# Equivalente a hacer esto:\n",
        "nueva_lista = []\n",
        "for x in lista_gastos:\n",
        "    if x > 3000:\n",
        "        nueva_lista.append(x)\n",
        "nueva_lista"
      ]
    },
    {
      "cell_type": "markdown",
      "metadata": {
        "id": "RUEnj2uIfKRu"
      },
      "source": []
    },
    {
      "cell_type": "markdown",
      "metadata": {
        "id": "81FqXPLZb8yU"
      },
      "source": [
        "\n",
        "3 - Crea un código que recoja en una lista 5 números enteros aleatorios e imprima la lista. Ejemplo: [1, 4, 7, 2, 4]."
      ]
    },
    {
      "cell_type": "code",
      "execution_count": null,
      "metadata": {
        "colab": {
          "base_uri": "https://localhost:8080/"
        },
        "id": "HOiExmcXb9_Q",
        "outputId": "da2ee45e-77bd-454b-b627-92678ebb577e"
      },
      "outputs": [
        {
          "name": "stdout",
          "output_type": "stream",
          "text": [
            "[22, 66, 82, 58, 80]\n"
          ]
        }
      ],
      "source": [
        "import random\n",
        "numeros = []\n",
        "for i in range(5):\n",
        "  numeros.append(random.randint(1,100))\n",
        "print(numeros)\n"
      ]
    },
    {
      "cell_type": "markdown",
      "metadata": {
        "id": "7rzgK5V6dNcQ"
      },
      "source": [
        "4 - Recoge nuevamente 5 números enteros e imprime la lista en orden inverso al enviado."
      ]
    },
    {
      "cell_type": "code",
      "execution_count": null,
      "metadata": {
        "colab": {
          "base_uri": "https://localhost:8080/"
        },
        "id": "zoBWnkUtdMri",
        "outputId": "2cfadcef-6c6a-48d2-c063-948f3c83a134"
      },
      "outputs": [
        {
          "name": "stdout",
          "output_type": "stream",
          "text": [
            "[2, 1, 2, 1, 7]\n",
            "[7, 1, 2, 1, 2]\n"
          ]
        }
      ],
      "source": [
        "numeros = []\n",
        "for i in range(5):\n",
        "  numeros.append(random.randint(1,10))\n",
        "print(numeros)\n",
        "numeros.reverse()\n",
        "print(numeros)"
      ]
    },
    {
      "cell_type": "code",
      "execution_count": null,
      "metadata": {
        "colab": {
          "base_uri": "https://localhost:8080/"
        },
        "id": "sqHlcEsKJ4YB",
        "outputId": "6fce9467-d8c4-4382-d619-0cca204ed7ce"
      },
      "outputs": [
        {
          "name": "stdout",
          "output_type": "stream",
          "text": [
            "Ingresa un número entero: 10\n",
            "Ingresa un número entero: 2\n",
            "Ingresa un número entero: 3\n",
            "Ingresa un número entero: 6\n",
            "Ingresa un número entero: 8\n",
            "Lista de números invertida: [8, 6, 3, 2, 10]\n"
          ]
        }
      ],
      "source": [
        "# Lista que almacenará los 5 números enteros\n",
        "lista_numeros = []\n",
        "\n",
        "# Creamos un bucle que iterará 5 veces para recibir los 5 números\n",
        "for i in range(0, 5):\n",
        "  # Recopilamos el valor e lo insertamos en la lista 5 veces\n",
        "  numero = int(input('Ingresa un número entero: '))\n",
        "  lista_numeros.append(numero)\n",
        "# Usamos la técnica de partición para imprimir el resultado\n",
        "print(f'Lista de números invertida: {lista_numeros[::-1]}')"
      ]
    },
    {
      "cell_type": "markdown",
      "metadata": {
        "id": "NzsLVej0eXhx"
      },
      "source": [
        "\n",
        "5 - Crea un programa que, al ingresar un número cualquiera, genere una lista que contenga todos los números primos entre 1 y el número ingresado.\n"
      ]
    },
    {
      "cell_type": "code",
      "execution_count": null,
      "metadata": {
        "colab": {
          "base_uri": "https://localhost:8080/"
        },
        "id": "ralGOs3OeYZl",
        "outputId": "fe13eb3d-7bb1-49ad-890b-c87f6c87cd58"
      },
      "outputs": [
        {
          "name": "stdout",
          "output_type": "stream",
          "text": [
            "Ingresa un número entero: 20\n",
            "Lista de números primos: [2, 3, 5, 7, 11, 13, 17, 19]\n"
          ]
        }
      ],
      "source": [
        "# Recopilamos el número\n",
        "numero = int(input('Ingresa un número entero: '))\n",
        "# Lista para almacenar los números primos\n",
        "lista_primos = []\n",
        "# Bucle que recorre todos los números por debajo del número ingresado\n",
        "for num in range(2, numero):\n",
        "  # Primo es una bandera que nos permite saber si el valor analizado es primo o no.\n",
        "  primo = True\n",
        "  # Probamos si todos los números por debajo del especificado en el primer bucle pueden dar una división exacta.\n",
        "  for prueba_divisibles in range(2, num):\n",
        "    if num % prueba_divisibles == 0:\n",
        "      # Si es divisible por algún número, entendemos que el número no es primo y terminamos el bucle interno con break.\n",
        "      primo = False\n",
        "      break\n",
        "  # La condición se convierte en el resultado booleano de primo: False. Ignoramos la condición True y ejecutamos el bloque del if.\n",
        "  if primo:\n",
        "    lista_primos.append(num)\n",
        "# Resultado\n",
        "print(f'Lista de números primos: {lista_primos}')"
      ]
    },
    {
      "cell_type": "markdown",
      "metadata": {
        "id": "OZ2K5TiHgJ_N"
      },
      "source": [
        "6 - Escribe un programa que pida una fecha, especificando el día, mes y año, y determine si es válida para su análisis."
      ]
    },
    {
      "cell_type": "code",
      "execution_count": null,
      "metadata": {
        "colab": {
          "base_uri": "https://localhost:8080/"
        },
        "id": "05Ib2HBWgKhv",
        "outputId": "a6cfa712-383d-4e45-c1db-adb84187630c"
      },
      "outputs": [
        {
          "name": "stdout",
          "output_type": "stream",
          "text": [
            "Ingrese el día: 1\n",
            "Ingrese el mes: 2\n",
            "Ingrese el año: 2034\n",
            "Fecha válida\n"
          ]
        }
      ],
      "source": [
        "# Recopilamos la fecha\n",
        "dia = int(input('Ingrese el día: '))\n",
        "mes = int(input('Ingrese el mes: '))\n",
        "año = int(input('Ingrese el año: '))\n",
        "\n",
        "# Análisis de febrero\n",
        "if mes == 2:\n",
        "  # Verificamos si es o no un año bisiesto\n",
        "  if año % 4 == 0 and (año % 400 == 0 or año % 100 != 0):\n",
        "    dias_febrero = 29\n",
        "  else:\n",
        "    dias_febrero = 28\n",
        "  # Verificamos si el día ingresado coincide con el máximo de días de febrero\n",
        "  if dia >= 1 and dia <= dias_febrero:\n",
        "    print('Fecha válida')\n",
        "  else:\n",
        "    print('Fecha inválida')\n",
        "# Verificamos meses que terminan en 31 días\n",
        "elif mes in [1, 3, 5, 7, 8, 10, 12]:\n",
        "  if dia >= 1 and dia <= 31:\n",
        "    print('Fecha válida')\n",
        "  else:\n",
        "    print('Fecha inválida')\n",
        "# Verificamos meses que terminan en 30 días\n",
        "elif mes in [4, 6, 9, 11]:\n",
        "  if dia >= 1 and dia <= 30:\n",
        "    print('Fecha válida')\n",
        "  else:\n",
        "    print('Fecha inválida')\n",
        "# Si el mes no está entre 1 y 12\n",
        "else:\n",
        "  print('Fecha inválida')"
      ]
    },
    {
      "cell_type": "markdown",
      "metadata": {
        "id": "LU8mgowlMzi6"
      },
      "source": [
        "##Momento para los proyectos\n",
        "---"
      ]
    },
    {
      "cell_type": "markdown",
      "metadata": {
        "id": "_SAaZAv7M64A"
      },
      "source": [
        "7 - Para un estudio sobre la multiplicación de bacterias en una colonia, se recopiló el número de bacterias multiplicadas por día y se puede observar a continuación: [1.2, 2.1, 3.3, 5.0, 7.8, 11.3, 16.6, 25.1, 37.8, 56.9]. Con estos valores, crea un código que genere una lista que contenga el porcentaje de crecimiento de bacterias por día, comparando el número de bacterias en cada día con el número de bacterias del día anterior. Sugerencia: para calcular el porcentaje de crecimiento, utiliza la siguiente ecuación: 100 * (muestra_actual - muestra_anterior) / muestra_anterior."
      ]
    },
    {
      "cell_type": "code",
      "execution_count": null,
      "metadata": {
        "colab": {
          "base_uri": "https://localhost:8080/"
        },
        "id": "LqHPcRVNO7XX",
        "outputId": "17fb1cc8-aba2-4d59-e995-fab51abf535b"
      },
      "outputs": [
        {
          "name": "stdout",
          "output_type": "stream",
          "text": [
            "Porcentajes de crecimiento:\n",
            "[75.0, 57.14, 51.52, 56.0, 44.87, 46.9, 51.2, 50.6, 50.53]\n"
          ]
        }
      ],
      "source": [
        "# Lista de crecimiento de bacterias\n",
        "bacterias_colonia = [1.2, 2.1, 3.3, 5.0, 7.8, 11.3, 16.6, 25.1, 37.8, 56.9]\n",
        "# Lista que almacenará las tasas de crecimiento\n",
        "porcentaje_crecimiento = []\n",
        "# Recorremos los índices de 1 a 9 para comparar los valores actuales con los anteriores\n",
        "for i in range(1, len(bacterias_colonia)):\n",
        "  # Realizamos el cálculo: 100 * (muestra_actual - muestra_anterior) / (muestra_anterior)\n",
        "  porcentaje = 100 * (bacterias_colonia[i] - bacterias_colonia[i-1]) / (bacterias_colonia[i-1])\n",
        "  # Agregamos el resultado a la lista porcentaje_crecimiento\n",
        "  porcentaje_crecimiento.append(porcentaje)\n",
        "# Resultado\n",
        "print(f'Porcentajes de crecimiento:\\n{[round(p,2) for p in porcentaje_crecimiento]}')"
      ]
    },
    {
      "cell_type": "markdown",
      "metadata": {
        "id": "g1AffmkIS169"
      },
      "source": [
        "8 - Para una selección de productos alimenticios, debemos separar el conjunto de IDs proporcionados por números enteros, sabiendo que los productos con ID par son dulces y los que tienen ID impar son amargos. Crea un código que recoja 10 IDs. Luego, calcula y muestra la cantidad de productos dulces y amargos."
      ]
    },
    {
      "cell_type": "code",
      "execution_count": null,
      "metadata": {
        "colab": {
          "base_uri": "https://localhost:8080/"
        },
        "id": "2BIELH-YS5YG",
        "outputId": "9e9d6106-558d-4415-d08a-d9983a5e7b74"
      },
      "outputs": [
        {
          "name": "stdout",
          "output_type": "stream",
          "text": [
            "Ingrese un ID de prudcto:\n",
            "33\n",
            "Ingrese un ID de prudcto:\n",
            "44\n",
            "Ingrese un ID de prudcto:\n",
            "5\n",
            "Ingrese un ID de prudcto:\n",
            "66\n",
            "Ingrese un ID de prudcto:\n",
            "77\n",
            "Ingrese un ID de prudcto:\n",
            "89\n",
            "Ingrese un ID de prudcto:\n",
            "90\n",
            "Ingrese un ID de prudcto:\n",
            "98\n",
            "Ingrese un ID de prudcto:\n",
            "765\n",
            "Ingrese un ID de prudcto:\n",
            "554\n",
            "[33, 44, 5, 66, 77, 89, 90, 98, 765, 554]\n",
            "Cantidad de productos dulces: 5\n",
            "Cantidad de productos amargos: 5\n",
            "Productos dulces: [44, 66, 90, 98, 554]\n",
            "lista_amargos:64 [33, 5, 77, 89, 765]\n"
          ]
        }
      ],
      "source": [
        "lista_productos = [] # todos\n",
        "lista_dulces = [] # pares\n",
        "lista_amargos = [] # impares\n",
        "\n",
        "for i in range(10):\n",
        "  id = int(input('Ingrese un ID de prudcto:\\n'))\n",
        "  lista_productos.append(id)\n",
        "print(lista_productos)\n",
        "\n",
        "for producto in lista_productos:\n",
        "  if producto % 2 == 0:\n",
        "    lista_dulces.append(producto)\n",
        "  else:\n",
        "    lista_amargos.append(producto)\n",
        "print(f'Cantidad de productos dulces: {len(lista_dulces)}')\n",
        "print(f'Cantidad de productos amargos: {len(lista_amargos)}')\n",
        "print(f'Productos dulces: {lista_dulces}')\n",
        "print(f'lista_amargos:64 {lista_amargos}')\n"
      ]
    },
    {
      "cell_type": "markdown",
      "metadata": {
        "id": "6blpSb0_VyZB"
      },
      "source": [
        "\n",
        "\n",
        "9 - Desarrolla un programa que informe la puntuación de un estudiante de acuerdo con sus respuestas. Debe pedir la respuesta del estudiante para cada pregunta y verificar si la respuesta coincide con el resultado. Cada pregunta vale un punto y hay opciones A, B, C o D.\n",
        "Resultado del examen:\n",
        "01 - D\n",
        "02 - A\n",
        "03 - C\n",
        "04 - B\n",
        "05 - A\n",
        "06 - D\n",
        "07 - C\n",
        "08 - C\n",
        "09 - A\n",
        "10 - B"
      ]
    },
    {
      "cell_type": "code",
      "execution_count": null,
      "metadata": {
        "colab": {
          "base_uri": "https://localhost:8080/"
        },
        "id": "AS3VXqdNgQ0u",
        "outputId": "3206b793-2e2d-4fc0-e48e-e4fd6fd04cb3"
      },
      "outputs": [
        {
          "output_type": "stream",
          "name": "stdout",
          "text": [
            "Ingrese la respuesta a la pregunta 1:\n",
            "A. \tB. \tC.  \tD.\n",
            "D\n",
            "respuesta verdadera D\n",
            "ok\n",
            "Ingrese la respuesta a la pregunta 2:\n",
            "A. \tB. \tC.  \tD.\n",
            "A\n",
            "respuesta verdadera A\n",
            "ok\n",
            "Ingrese la respuesta a la pregunta 3:\n",
            "A. \tB. \tC.  \tD.\n",
            "C\n",
            "respuesta verdadera C\n",
            "ok\n",
            "Ingrese la respuesta a la pregunta 4:\n",
            "A. \tB. \tC.  \tD.\n",
            "B\n",
            "respuesta verdadera B\n",
            "ok\n",
            "Ingrese la respuesta a la pregunta 5:\n",
            "A. \tB. \tC.  \tD.\n",
            "A\n",
            "respuesta verdadera A\n",
            "ok\n",
            "Ingrese la respuesta a la pregunta 6:\n",
            "A. \tB. \tC.  \tD.\n",
            "D\n",
            "respuesta verdadera D\n",
            "ok\n",
            "Ingrese la respuesta a la pregunta 7:\n",
            "A. \tB. \tC.  \tD.\n",
            "C\n",
            "respuesta verdadera C\n",
            "ok\n",
            "Ingrese la respuesta a la pregunta 8:\n",
            "A. \tB. \tC.  \tD.\n",
            "C\n",
            "respuesta verdadera C\n",
            "ok\n",
            "Ingrese la respuesta a la pregunta 9:\n",
            "A. \tB. \tC.  \tD.\n",
            "A\n",
            "respuesta verdadera A\n",
            "ok\n",
            "Ingrese la respuesta a la pregunta 10:\n",
            "A. \tB. \tC.  \tD.\n",
            "B\n",
            "respuesta verdadera B\n",
            "ok\n",
            "Puntos: 10\n"
          ]
        }
      ],
      "source": [
        "test = {\n",
        "          'preguntas': [1,2,3,4,5,6,7,8,9,10],\n",
        "          'respuestas': ['D', 'A', 'C', 'B', 'A', 'D', 'C', 'C', 'A', 'B']\n",
        "        }\n",
        "puntos = 0\n",
        "preguntas =  test['preguntas']\n",
        "respuestas = test['respuestas']\n",
        "for pregunta in preguntas:\n",
        "  seleccion = (input(f'Ingrese la respuesta a la pregunta {pregunta}:\\nA. \\tB. \\tC.  \\tD.\\n'))\n",
        "  #print(f'respuesta verdadera {respuestas[pregunta-1]}') # Para probar la respuesta verdadera\n",
        "  if seleccion == respuestas[pregunta-1]:\n",
        "    print('ok')\n",
        "    puntos += 1\n",
        "  else:\n",
        "    print('error')\n",
        "print(f'Puntos: {puntos}')\n",
        "\n"
      ]
    },
    {
      "cell_type": "markdown",
      "metadata": {
        "id": "NLi4GEuxXccw"
      },
      "source": [
        "10 - Un instituto de meteorología desea realizar un estudio de la temperatura media de cada mes del año. Para ello, debes crear un código que recoja y almacene esas temperaturas medias en una lista. Luego, calcula el promedio anual de las temperaturas y muestra todas las temperaturas por encima del promedio anual y en qué mes ocurrieron, mostrando los meses por su nombre (Enero, Febrero, etc.).\n",
        "\n"
      ]
    },
    {
      "cell_type": "code",
      "execution_count": null,
      "metadata": {
        "id": "WShEIcRyrFhs",
        "colab": {
          "base_uri": "https://localhost:8080/"
        },
        "outputId": "dcba1f46-472d-4e98-f52d-a3da64d70bbc"
      },
      "outputs": [
        {
          "output_type": "stream",
          "name": "stdout",
          "text": [
            "Ingrese la temperatura para el mes: Enero: 22\n",
            "Ingrese la temperatura para el mes: Febrero: 23\n",
            "Ingrese la temperatura para el mes: Marzo: 23\n",
            "Ingrese la temperatura para el mes: Abril: 5\n",
            "Ingrese la temperatura para el mes: Mayo: 26\n",
            "Ingrese la temperatura para el mes: Junio: 28\n",
            "Ingrese la temperatura para el mes: Julio: 32\n",
            "Ingrese la temperatura para el mes: Agosto: 34\n",
            "Ingrese la temperatura para el mes: Septiempre: 37\n",
            "Ingrese la temperatura para el mes: Octubre: 39\n",
            "Ingrese la temperatura para el mes: Noviembre: 32\n",
            "Ingrese la temperatura para el mes: Diciembre: 32\n",
            "\n",
            "Las temperaturas de enero a diciembre fueron: [22.0, 23.0, 23.0, 5.0, 26.0, 28.0, 32.0, 34.0, 37.0, 39.0, 32.0, 32.0]\n",
            "La temperatura media fue de: 27.75\n",
            "Temperaturas por encima de la media: {'meses': ['Junio', 'Julio', 'Agosto', 'Septiempre', 'Octubre', 'Noviembre', 'Diciembre'], 'temperaturas': [28.0, 32.0, 34.0, 37.0, 39.0, 32.0, 32.0]}\n",
            "Junio\t\t-->28.0\n",
            "Julio\t\t-->32.0\n",
            "Agosto\t\t-->34.0\n",
            "Septiempre\t\t-->37.0\n",
            "Octubre\t\t-->39.0\n",
            "Noviembre\t\t-->32.0\n",
            "Diciembre\t\t-->32.0\n"
          ]
        }
      ],
      "source": [
        "meses = ['Enero', 'Febrero', 'Marzo', 'Abril', 'Mayo', 'Junio', 'Julio', 'Agosto', 'Septiempre' , 'Octubre', 'Noviembre', 'Diciembre']\n",
        "temperaturas = []\n",
        "temperaturas_altas = {\n",
        "                        'meses' : [],\n",
        "                        'temperaturas' : []\n",
        "                      }\n",
        "for mes in range(len(meses)):\n",
        "  temperatura = float(input(f'Ingrese la temperatura para el mes: {meses[mes]}: '))\n",
        "  temperaturas.append(temperatura)\n",
        "\n",
        "temperatura_media = sum(temperaturas)/len(temperaturas)\n",
        "\n",
        "for i in range(len(temperaturas)):\n",
        " if temperaturas[i] > temperatura_media:\n",
        "    temperaturas_altas['meses'].append(meses[i])\n",
        "    temperaturas_altas['temperaturas'].append(temperaturas[i])\n",
        "\n",
        "# Resultados\n",
        "print(f'\\nLas temperaturas de enero a diciembre fueron: {temperaturas}')\n",
        "print(f'La temperatura media fue de: {temperatura_media:.2f}')\n",
        "print(f'Temperaturas por encima de la media: {temperaturas_altas}')\n",
        "for i in range(len(temperaturas_altas['meses'])):\n",
        "  print(f\"{temperaturas_altas['meses'][i]} --> {temperaturas_altas['temperaturas'][i]}\")"
      ]
    },
    {
      "cell_type": "markdown",
      "metadata": {
        "id": "IjH6uUFvXc2j"
      },
      "source": [
        "11 - Una empresa de comercio electrónico está interesada en analizar las ventas de sus productos. Los datos de ventas se han almacenado en un diccionario:\n",
        "\n",
        "{'Producto A': 300, 'Producto B': 80, 'Producto C': 60, 'Producto D': 200, 'Producto E': 250, 'Producto F': 30}\n",
        "\n",
        "Escribe un código que calcule el total de ventas y el producto más vendido."
      ]
    },
    {
      "cell_type": "code",
      "source": [
        "total_ventas = 0\n",
        "ventas = {\n",
        "    'Producto A': 300,\n",
        "    'Producto B': 80,\n",
        "    'Producto C': 60,\n",
        "    'Producto D': 200,\n",
        "    'Producto E': 250,\n",
        "    'Producto F': 30\n",
        "}\n",
        "\n",
        "for venta in ventas.values():\n",
        "    total_ventas += venta\n",
        "\n",
        "venta_maxima = max(ventas.values())\n",
        "\n",
        "print(f'Total de ventas: {total_ventas}')\n",
        "print(f'Producto(s) más vendido(s) con {venta_maxima} unidades:')\n",
        "\n",
        "for producto, valor in ventas.items():\n",
        "    if valor == venta_maxima:\n",
        "        print(f'- {producto}')"
      ],
      "metadata": {
        "colab": {
          "base_uri": "https://localhost:8080/"
        },
        "id": "6VZRjabs-KJJ",
        "outputId": "7dc32986-0535-4bd1-acea-8c6a6ae296b3"
      },
      "execution_count": null,
      "outputs": [
        {
          "output_type": "stream",
          "name": "stdout",
          "text": [
            "Total de ventas: 920\n",
            "Producto(s) más vendido(s) con 300 unidades:\n",
            "- Producto A\n"
          ]
        }
      ]
    },
    {
      "cell_type": "markdown",
      "metadata": {
        "id": "mkrmx4onXdFh"
      },
      "source": [
        "\n",
        "\n",
        "12 - Se realizó una encuesta de mercado para decidir cuál diseño de marca infantil es más atractivo para los niños. Los votos de la encuesta se pueden ver a continuación:\n",
        "\n",
        "Tabla de votos de la marca\n",
        "Diseño 1 - 1334 votos\n",
        "Diseño 2 - 982 votos\n",
        "Diseño 3 - 1751 votos\n",
        "Diseño 4 - 210 votos\n",
        "Diseño 5 - 1811 votos\n",
        "\n",
        "Adapta los datos proporcionados a una estructura de diccionario. A partir de ello, informa el diseño ganador y el porcentaje de votos recibidos."
      ]
    },
    {
      "cell_type": "code",
      "source": [
        "votacion = {\n",
        "    'Diseño 1' : 1334,\n",
        "    'Diseño 2' : 982,\n",
        "    'Diseño 3' : 1751,\n",
        "    'Diseño 4' : 210,\n",
        "    'votos Diseño 5' : 1811\n",
        "}\n",
        "maxima_votacion = max(votacion.values())\n",
        "total_votos = 0\n",
        "for votos in votacion.values():\n",
        "  total_votos += votos\n",
        "\n",
        "print(f'La máxima votación es: {maxima_votacion}')\n",
        "print(f'El diseño ganador es :')\n",
        "for llave, valor in votacion.items():\n",
        "  if valor == maxima_votacion:\n",
        "    print(f'-{llave} con {maxima_votacion}, correspondiente a un porcentaje del {((maxima_votacion/total_votos)*100):.2f}%')\n",
        "print(f'La votación total fue de {total_votos}')\n",
        "\n",
        "\n",
        "\n"
      ],
      "metadata": {
        "colab": {
          "base_uri": "https://localhost:8080/"
        },
        "id": "3iiMG3fVuVfw",
        "outputId": "8ab3d85e-0081-4fa0-c570-3b613f3fd83b"
      },
      "execution_count": null,
      "outputs": [
        {
          "output_type": "stream",
          "name": "stdout",
          "text": [
            "La máxima votación es: 1811\n",
            "El diseño ganador es :\n",
            "-votos Diseño 5 con 1811, correspondiente a un porcentaje del 29.75%\n",
            "La votación total fue de 6088\n"
          ]
        }
      ]
    },
    {
      "cell_type": "markdown",
      "metadata": {
        "id": "-f7yP895XdYL"
      },
      "source": [
        "13 - Los empleados de un departamento de tu empresa recibirán una bonificación del 10% de su salario debido a un excelente rendimiento del equipo. El departamento de finanzas ha solicitado tu ayuda para verificar las consecuencias financieras de esta bonificación en los recursos. Se te ha enviado una lista con los salarios que recibirán la bonificación: [1172, 1644, 2617, 5130, 5532, 6341, 6650, 7238, 7685, 7782, 7903].\n",
        "\n",
        "- La bonificación de cada empleado no puede ser inferior a 200.\n",
        "\n",
        "- En el código, convierte cada uno de los salarios en claves de un diccionario y la bonificación de cada salario en el valor correspondiente.\n",
        "\n",
        "- Luego, informa el gasto total en bonificaciones, cuántos empleados recibieron la bonificación mínima y cuál fue el valor más alto de la bonificación proporcionada."
      ]
    },
    {
      "cell_type": "code",
      "source": [
        "salarios = [1172, 1644, 2617, 5130, 5532, 6341, 6650, 7238, 7685, 7782, 7903]\n",
        "aumentos_salarios = {\n",
        "\n",
        "}\n",
        "for salario in salarios:\n",
        "  bonificacion = salario*0.10\n",
        "  if bonificacion <200:\n",
        "    bonificacion = 200\n",
        "  aumentos_salarios[salario] = bonificacion\n",
        "print(aumentos_salarios)\n",
        "\n",
        "total_bonificaciones = 0\n",
        "for bonificacion in aumentos_salarios.values():\n",
        "  total_bonificaciones += bonificacion\n",
        "print(f'El total de bonificaciones es de : {total_bonificaciones}')\n",
        "\n",
        "qty_bonificaciones_minimas = 0\n",
        "\n",
        "for bonificacion in aumentos_salarios.values():\n",
        "  if bonificacion == 200:\n",
        "    qty_bonificaciones_minimas += 1\n",
        "\n",
        "print(f'La cantidad de bonificaciones mínimas es de: {qty_bonificaciones_minimas}')\n",
        "\n",
        "maxima_bonificacion = max(aumentos_salarios.values())\n",
        "print(f'La máxima bonificación es de {maxima_bonificacion}')"
      ],
      "metadata": {
        "colab": {
          "base_uri": "https://localhost:8080/"
        },
        "id": "TgOoT2Az0rqP",
        "outputId": "68c5c349-477d-46bc-c3b3-ceec22fd9d45"
      },
      "execution_count": null,
      "outputs": [
        {
          "output_type": "stream",
          "name": "stdout",
          "text": [
            "{1172: 200, 1644: 200, 2617: 261.7, 5130: 513.0, 5532: 553.2, 6341: 634.1, 6650: 665.0, 7238: 723.8000000000001, 7685: 768.5, 7782: 778.2, 7903: 790.3000000000001}\n",
            "El total de bonificaciones es de : 6087.8\n",
            "La cantidad de bonificaciones mínimas es de: 2\n",
            "La máxima bonificación es de 790.3000000000001\n"
          ]
        }
      ]
    },
    {
      "cell_type": "code",
      "source": [
        "bonificaciones_minimas = [x for x in aumentos_salarios.values() if x==200]\n",
        "print(bonificaciones_minimas)"
      ],
      "metadata": {
        "colab": {
          "base_uri": "https://localhost:8080/"
        },
        "id": "IFoFfU80Aln3",
        "outputId": "74b35a2e-e3cb-4862-9b30-ed1db5f45526"
      },
      "execution_count": null,
      "outputs": [
        {
          "output_type": "stream",
          "name": "stdout",
          "text": [
            "[200, 200]\n"
          ]
        }
      ]
    },
    {
      "cell_type": "markdown",
      "metadata": {
        "id": "Y6MZ8iKBXdxO"
      },
      "source": [
        "14 - Un equipo de científicos de datos está estudiando la diversidad biológica en un bosque. El equipo recopiló información sobre el número de especies de plantas y animales en cada área del bosque y almacenó estos datos en un diccionario. En él, la clave describe el área de los datos y los valores en las listas corresponden a las especies de plantas y animales en esas áreas, respectivamente.\n",
        "\n",
        "{'Área Norte': [2819, 7236], 'Área Leste': [1440, 9492], 'Área Sul': [5969, 7496], 'Área Oeste': [14446, 49688], 'Área Centro': [22558, 45148]}\n",
        "\n",
        "- Escribe un código para calcular el promedio de especies por área e identificar el área con la mayor diversidad biológica. Sugerencia: utiliza las funciones incorporadas sum() y len().\n",
        "\n"
      ]
    },
    {
      "cell_type": "code",
      "source": [
        "diversidad = {'Área Norte': [2819, 7236], 'Área Leste': [1440, 9492], 'Área Sul': [5969, 7496], 'Área Oeste': [14446, 49688], 'Área Centro': [22558, 45148]}"
      ],
      "metadata": {
        "id": "vxYJxPOpBv1R"
      },
      "execution_count": null,
      "outputs": []
    },
    {
      "cell_type": "markdown",
      "source": [],
      "metadata": {
        "id": "ySyRyN_qKpVV"
      }
    },
    {
      "cell_type": "code",
      "source": [
        "total_especies = 0\n",
        "especies_por_area = {}\n",
        "porc_especies_por_area = {}\n",
        "for area, valores in diversidad.items():\n",
        "  especies_por_area[area]=sum(valores)\n",
        "print('Total de especies por área:\\n')\n",
        "print(especies_por_area)\n",
        "\n",
        "for x in especies_por_area.values():\n",
        "  total_especies += x\n",
        "print(f'total de especies = {total_especies}')\n",
        "\n",
        "for area,cantidad in especies_por_area.items():\n",
        "  porc_especies_por_area[area]=float((100*(cantidad/total_especies)))\n",
        "\n",
        "print(f'Porcentaje de especies por area: {(porc_especies_por_area)}')\n",
        "for area, porcentaje in porc_especies_por_area.items():\n",
        "  print(f'{area} -->{porcentaje:.2f}%')\n"
      ],
      "metadata": {
        "colab": {
          "base_uri": "https://localhost:8080/"
        },
        "id": "4LeK6Qee0sUe",
        "outputId": "27a548c7-4864-403b-ddcb-e8f6d007866f"
      },
      "execution_count": null,
      "outputs": [
        {
          "output_type": "stream",
          "name": "stdout",
          "text": [
            "Total de especies por área:\n",
            "\n",
            "{'Área Norte': 10055, 'Área Leste': 10932, 'Área Sul': 13465, 'Área Oeste': 64134, 'Área Centro': 67706}\n",
            "total de especies = 166292\n",
            "Porcentaje de especies por area: {'Área Norte': 6.046592740480601, 'Área Leste': 6.573978303225651, 'Área Sul': 8.09720251124528, 'Área Oeste': 38.567098838188244, 'Área Centro': 40.71512760686022}\n",
            "Área Norte -->6.05%\n",
            "Área Leste -->6.57%\n",
            "Área Sul -->8.10%\n",
            "Área Oeste -->38.57%\n",
            "Área Centro -->40.72%\n"
          ]
        }
      ]
    },
    {
      "cell_type": "markdown",
      "metadata": {
        "id": "4W3mMHYPXd-p"
      },
      "source": [
        "15 - El departamento de Recursos Humanos de tu empresa te pidió ayuda para analizar las edades de los colaboradores de 4 sectores de la empresa. Para ello, te proporcionaron los siguientes datos:\n",
        "\n",
        "{'Setor A': [22, 26, 30, 30, 35, 38, 40, 56, 57, 65],\n",
        " 'Setor B': [22, 24, 26, 33, 41, 49, 50, 54, 60, 64],\n",
        " 'Setor C': [23, 26, 26, 29, 34, 35, 36, 41, 52, 56],\n",
        " 'Setor D': [19, 20, 25, 27, 34, 39, 42, 44, 50, 65]}"
      ]
    },
    {
      "cell_type": "markdown",
      "metadata": {
        "id": "b73dyDsgX7ge"
      },
      "source": [
        "Dado que cada sector tiene 10 colaboradores, construye un código que calcule la media de edad de cada sector, la edad media general entre todos los sectores y cuántas personas están por encima de la edad media general.\n",
        "\n"
      ]
    },
    {
      "cell_type": "code",
      "execution_count": null,
      "metadata": {
        "id": "goXXcyglX3GI",
        "colab": {
          "base_uri": "https://localhost:8080/"
        },
        "outputId": "07099a94-5a9e-4029-9dc7-995adb4ae4ab"
      },
      "outputs": [
        {
          "output_type": "stream",
          "name": "stdout",
          "text": [
            "Las edades medias para cada sector son:\n",
            ": {'Sector A': 39.9, 'Sector B': 42.3, 'Sector C': 35.8, 'Sector D': 36.5}\n",
            "Sector A-->\t39.9\n",
            "Sector B-->\t42.3\n",
            "Sector C-->\t35.8\n",
            "Sector D-->\t36.5\n",
            "Edad media general: 38.62\n",
            "[22, 26, 30, 30, 35, 38, 40, 56, 57, 65, 22, 24, 26, 33, 41, 49, 50, 54, 60, 64, 23, 26, 26, 29, 34, 35, 36, 41, 52, 56, 19, 20, 25, 27, 34, 39, 42, 44, 50, 65]\n",
            "Edades por encima de la media general = 18\n"
          ]
        }
      ],
      "source": [
        "edades_sectores = {\n",
        "                    'Sector A': [22, 26, 30, 30, 35, 38, 40, 56, 57, 65],\n",
        "                    'Sector B': [22, 24, 26, 33, 41, 49, 50, 54, 60, 64],\n",
        "                    'Sector C': [23, 26, 26, 29, 34, 35, 36, 41, 52, 56],\n",
        "                    'Sector D': [19, 20, 25, 27, 34, 39, 42, 44, 50, 65]\n",
        "                    }\n",
        "edades_medias = {}\n",
        "edad_media_SA = sum(edades_sectores['Sector A'])/len(edades_sectores['Sector A'])\n",
        "\n",
        "for sector, edad in edades_sectores.items():\n",
        "  edades_medias[sector] = sum(edad)/len(edad)\n",
        "\n",
        "print(f'Las edades medias para cada sector son:\\n: {edades_medias}')\n",
        "for sector, edad in edades_medias.items():\n",
        "  print(f'{sector}-->\\t{edad}')\n",
        "\n",
        "edad_media_general = (sum(edades_sectores['Sector A']) +\n",
        "                      sum(edades_sectores['Sector B']) +\n",
        "                      sum(edades_sectores['Sector C']) +\n",
        "                      sum(edades_sectores['Sector D']))/40\n",
        "print(f'Edad media general: {edad_media_general:.2f}')\n",
        "\n",
        "lista_edades_general =[]\n",
        "\n",
        "for sector, edades in edades_sectores.items():\n",
        "  for edad in edades:\n",
        "    lista_edades_general.append(edad)\n",
        "print(lista_edades_general)\n",
        "\n",
        "cant_mayores_a_media_general = 0\n",
        "for edad in lista_edades_general:\n",
        "  if edad>edad_media_general:\n",
        "    cant_mayores_a_media_general += 1\n",
        "print(f'Edades por encima de la media general = {cant_mayores_a_media_general}')"
      ]
    },
    {
      "cell_type": "code",
      "source": [
        "# Optimizado chatgpt\n",
        "edades_sectores = {\n",
        "    'Sector A': [22, 26, 30, 30, 35, 38, 40, 56, 57, 65],\n",
        "    'Sector B': [22, 24, 26, 33, 41, 49, 50, 54, 60, 64],\n",
        "    'Sector C': [23, 26, 26, 29, 34, 35, 36, 41, 52, 56],\n",
        "    'Sector D': [19, 20, 25, 27, 34, 39, 42, 44, 50, 65]\n",
        "}\n",
        "\n",
        "edades_medias = {}\n",
        "\n",
        "# Cálculo de media por sector\n",
        "for sector, edades in edades_sectores.items():\n",
        "    edades_medias[sector] = sum(edades) / len(edades)\n",
        "\n",
        "print('Media de edad por sector:')\n",
        "for sector, media in edades_medias.items():\n",
        "    print(f'{sector} → {media:.2f}')\n",
        "\n",
        "# Cálculo de media general\n",
        "total_edades = sum([sum(edades) for edades in edades_sectores.values()])\n",
        "total_colaboradores = sum([len(edades) for edades in edades_sectores.values()])\n",
        "edad_media_general = total_edades / total_colaboradores\n",
        "print(f'\\nEdad media general: {edad_media_general:.2f}')\n",
        "\n",
        "# Conteo de personas por encima de la media\n",
        "lista_edades_general = [edad for edades in edades_sectores.values() for edad in edades]\n",
        "cant_mayores_a_media_general = sum(1 for edad in lista_edades_general if edad > edad_media_general)\n",
        "print(f'Cantidad de personas por encima de la edad media general: {cant_mayores_a_media_general}')\n"
      ],
      "metadata": {
        "colab": {
          "base_uri": "https://localhost:8080/"
        },
        "id": "tpAO0KZ7NE0T",
        "outputId": "bedf8196-08f2-4fc7-a5c6-df0054f1af36"
      },
      "execution_count": null,
      "outputs": [
        {
          "output_type": "stream",
          "name": "stdout",
          "text": [
            "Media de edad por sector:\n",
            "Sector A → 39.90\n",
            "Sector B → 42.30\n",
            "Sector C → 35.80\n",
            "Sector D → 36.50\n",
            "\n",
            "Edad media general: 38.62\n",
            "Cantidad de personas por encima de la edad media general: 18\n"
          ]
        }
      ]
    }
  ],
  "metadata": {
    "colab": {
      "toc_visible": true,
      "provenance": [],
      "authorship_tag": "ABX9TyM4n09mQXo17HzmKaL0gbkX",
      "include_colab_link": true
    },
    "kernelspec": {
      "display_name": "Python 3",
      "name": "python3"
    },
    "language_info": {
      "name": "python"
    }
  },
  "nbformat": 4,
  "nbformat_minor": 0
}