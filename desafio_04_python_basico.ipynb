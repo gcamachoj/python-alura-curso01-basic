{
  "nbformat": 4,
  "nbformat_minor": 0,
  "metadata": {
    "colab": {
      "provenance": [],
      "authorship_tag": "ABX9TyOF8bSe/z2eOcKH7d29rmu+",
      "include_colab_link": true
    },
    "kernelspec": {
      "name": "python3",
      "display_name": "Python 3"
    },
    "language_info": {
      "name": "python"
    }
  },
  "cells": [
    {
      "cell_type": "markdown",
      "metadata": {
        "id": "view-in-github",
        "colab_type": "text"
      },
      "source": [
        "<a href=\"https://colab.research.google.com/github/gcamachoj/python-alura-curso01-basic/blob/main/desafio_04_python_basico.ipynb\" target=\"_parent\"><img src=\"https://colab.research.google.com/assets/colab-badge.svg\" alt=\"Open In Colab\"/></a>"
      ]
    },
    {
      "cell_type": "markdown",
      "source": [
        "# Desafio 04 - Python Básico - Alura - Bucles"
      ],
      "metadata": {
        "id": "Oe-52wikILdX"
      }
    },
    {
      "cell_type": "markdown",
      "source": [
        "**El contenido de este desafió, pretende que se realicen las actividades aún sin POO ni funciones ni estructuras de datos tipo pandas. Lo anterior porque en este punto se trata de aplicar básicamente lo visto que incluye variables, condicionales y bucles for y while.**"
      ],
      "metadata": {
        "id": "HTxicsUEelHC"
      }
    },
    {
      "cell_type": "markdown",
      "source": [
        "Vamos practicar el uso de estructuras de repetición como el \"while\" y el \"for\" a partir de algunas actividades. Ahora que estamos avanzando en el contenido, podemos hacer los desafíos más interesantes. ¡Para ello, trabajaremos en proyectos de código!\n",
        "\n",
        "Comencemos resolviendo algunos problemas para calentar y prepararnos para los proyectos.\n",
        "\n",
        "##Entrenando la programación"
      ],
      "metadata": {
        "id": "SygOeEbye-LI"
      }
    },
    {
      "cell_type": "markdown",
      "source": [
        "1 - Escribe un programa que solicite dos números enteros e imprima todos los números enteros entre ellos.[texto del vínculo](https://)"
      ],
      "metadata": {
        "id": "T1SipTVQfHdT"
      }
    },
    {
      "cell_type": "code",
      "source": [],
      "metadata": {
        "id": "BEDfrHaagAT-"
      },
      "execution_count": null,
      "outputs": []
    },
    {
      "cell_type": "code",
      "execution_count": null,
      "metadata": {
        "id": "F-1tXh4UHyq-",
        "colab": {
          "base_uri": "https://localhost:8080/"
        },
        "outputId": "4f10ae63-51a0-41c5-a523-da1a36229899"
      },
      "outputs": [
        {
          "output_type": "stream",
          "name": "stdout",
          "text": [
            "Ingrese el primer número:\n",
            "2\n",
            "Ingrese el segundo número\n",
            "6\n",
            "Los números entre 2 y 6 son:\n",
            "\n",
            "2\n",
            "3\n",
            "4\n",
            "5\n"
          ]
        }
      ],
      "source": [
        "numero_1 = int(input('Ingrese el primer número:\\n'))\n",
        "numero_2 = int(input('Ingrese el segundo número\\n'))\n",
        "\n",
        "if numero_1 != numero_2:\n",
        "  rango = sorted([numero_1, numero_2])\n",
        "  print(f'Los números entre {rango[0]} y {rango[1]} son:')\n",
        "  for numero in range(rango[0],rango[1]):\n",
        "    print(numero)\n",
        "else:\n",
        "  print('Los números son iguales.')"
      ]
    },
    {
      "cell_type": "markdown",
      "source": [
        "\n",
        "2 - Escribe un programa para calcular cuántos días tomará que la colonia de una bacteria A supere o iguale a la colonia de una bacteria B, basado en tasas de crecimiento del 3% y 1.5%, respectivamente. Supón que la colonia A comienza con 4 elementos y B con 10."
      ],
      "metadata": {
        "id": "xQ0E-JN4lJyS"
      }
    },
    {
      "cell_type": "code",
      "source": [
        "A = 4\n",
        "B = 10\n",
        "dias = 0\n",
        "while A<=B:\n",
        "  A += A * 0.03\n",
        "  B += B * 0.015\n",
        "  dias +=1\n",
        "print('Colonia A: ', A)\n",
        "print('COlonia B: ', B)\n",
        "print('Días: ', dias)"
      ],
      "metadata": {
        "id": "GHV85hziIRim",
        "colab": {
          "base_uri": "https://localhost:8080/"
        },
        "outputId": "de4f7af4-abe2-4cdc-d189-43cba358dfe8"
      },
      "execution_count": null,
      "outputs": [
        {
          "output_type": "stream",
          "name": "stdout",
          "text": [
            "Colonia A:  25.75165514029833\n",
            "COlonia B:  25.54822084811115\n",
            "Días:  63\n"
          ]
        }
      ]
    },
    {
      "cell_type": "markdown",
      "source": [
        "3 - Para procesar una cantidad de 15 datos de evaluaciones de usuarios de un servicio de la empresa, necesitamos verificar si las calificaciones son válidas. Por lo tanto, escribe un programa que recibirá calificaciones del 0 al 5 y verificará si son valores válidos. Si se ingresa una calificación superior a 5 o inferior a 0, se repetirá hasta que el usuario ingrese un valor válido."
      ],
      "metadata": {
        "id": "-G33WBKgpqho"
      }
    },
    {
      "cell_type": "code",
      "source": [
        "lista_3 = []\n",
        "for i in range(15):\n",
        "  nota = float(input(f'Ingrese una nota mañor o igual a cero y menor que 5: para el valor {i}:\\n'))\n",
        "  while (nota < 0 or nota  > 5):\n",
        "    nota = float(input(f'Valor inválido. Ingresa un valor entre 0 y 5: para la nota {i}:\\n'))\n",
        "  lista_3.append(nota)\n",
        "print(f'Proceso finalizado: lista de notas: {lista_3}')"
      ],
      "metadata": {
        "colab": {
          "base_uri": "https://localhost:8080/"
        },
        "id": "X0rcZLNgpr6y",
        "outputId": "c0af912e-85f7-47a0-8b05-91b9b93d77b1"
      },
      "execution_count": null,
      "outputs": [
        {
          "output_type": "stream",
          "name": "stdout",
          "text": [
            "Ingrese una nota mañor o igual a cero y menor que 5: para el valor 0:\n",
            "7\n",
            "Valor inválido. Ingresa un valor entre 0 y 5: para la nota 0:\n",
            "3\n",
            "Ingrese una nota mañor o igual a cero y menor que 5: para el valor 1:\n",
            "2\n",
            "Ingrese una nota mañor o igual a cero y menor que 5: para el valor 2:\n",
            "2\n",
            "Ingrese una nota mañor o igual a cero y menor que 5: para el valor 3:\n",
            "1\n",
            "Ingrese una nota mañor o igual a cero y menor que 5: para el valor 4:\n",
            "2.3\n",
            "Ingrese una nota mañor o igual a cero y menor que 5: para el valor 5:\n",
            "2.1\n",
            "Ingrese una nota mañor o igual a cero y menor que 5: para el valor 6:\n",
            "1.0\n",
            "Ingrese una nota mañor o igual a cero y menor que 5: para el valor 7:\n",
            "1\n",
            "Ingrese una nota mañor o igual a cero y menor que 5: para el valor 8:\n",
            "1\n",
            "Ingrese una nota mañor o igual a cero y menor que 5: para el valor 9:\n",
            "1\n",
            "Ingrese una nota mañor o igual a cero y menor que 5: para el valor 10:\n",
            "1\n",
            "Ingrese una nota mañor o igual a cero y menor que 5: para el valor 11:\n",
            "1\n",
            "Ingrese una nota mañor o igual a cero y menor que 5: para el valor 12:\n",
            "1\n",
            "Ingrese una nota mañor o igual a cero y menor que 5: para el valor 13:\n",
            "1\n",
            "Ingrese una nota mañor o igual a cero y menor que 5: para el valor 14:\n",
            "1\n",
            "Proceso finalizado: lista de notas: [3.0, 2.0, 2.0, 1.0, 2.3, 2.1, 1.0, 1.0, 1.0, 1.0, 1.0, 1.0, 1.0, 1.0, 1.0]\n"
          ]
        }
      ]
    },
    {
      "cell_type": "markdown",
      "source": [
        "4 - Desarrolla un programa que lea un conjunto indefinido de temperaturas en grados Celsius y calcule su promedio. La lectura debe detenerse al ingresar el valor -273°C."
      ],
      "metadata": {
        "id": "q9Lqr7LrWZZj"
      }
    },
    {
      "cell_type": "code",
      "source": [
        "lista_temperaturas = []\n",
        "temperatura = float(input('Ingrese el valor de la temperatura:\\n'))\n",
        "while(temperatura != -273):\n",
        "  lista_temperaturas.append(temperatura)\n",
        "  print(f'El promedio de las temperaturas ingresadas es: {sum(lista_temperaturas)/len(lista_temperaturas)}')\n",
        "  temperatura = float(input('Ingrese el valor de la temperatura:\\n'))\n",
        "print('Proceso finalizado al ingresar temperatura = -273')\n",
        "print(f'Temperaturas ingresadas: {lista_temperaturas}')\n",
        "print(f'El promedio de las temperaturas es de {sum(lista_temperaturas)/len(lista_temperaturas)}')"
      ],
      "metadata": {
        "colab": {
          "base_uri": "https://localhost:8080/"
        },
        "id": "Irr74FL9WbQE",
        "outputId": "9c53b18e-c680-4f49-b2b4-14a4b68173de"
      },
      "execution_count": null,
      "outputs": [
        {
          "output_type": "stream",
          "name": "stdout",
          "text": [
            "Ingrese el valor de la temperatura:\n",
            "4\n",
            "El promedio de las temperaturas ingresadas es: 4.0\n",
            "Ingrese el valor de la temperatura:\n",
            "4\n",
            "El promedio de las temperaturas ingresadas es: 4.0\n",
            "Ingrese el valor de la temperatura:\n",
            "3\n",
            "El promedio de las temperaturas ingresadas es: 3.6666666666666665\n",
            "Ingrese el valor de la temperatura:\n",
            "-273\n",
            "Proceso finalizado al ingresar temperatura = -273\n",
            "Temperaturas ingresadas: [4.0, 4.0, 3.0]\n",
            "El promedio de las temperaturas es de 3.6666666666666665\n"
          ]
        }
      ]
    },
    {
      "cell_type": "markdown",
      "source": [
        "5 - Escribe un programa que calcule el factorial de un número entero proporcionado por el usuario. Recuerda que el factorial de un número entero es el producto de ese número por todos sus antecesores hasta llegar al número 1. Por ejemplo, el factorial de 5 es 5 x 4 x 3 x 2 x 1 = 120."
      ],
      "metadata": {
        "id": "hyHG8BA7a1sy"
      }
    },
    {
      "cell_type": "code",
      "source": [
        "numero = int(input('Ingrese un número:\\n'))\n",
        "factorial = 1\n",
        "for i in range(1, numero+1):\n",
        "  factorial*=i\n",
        "print(f\"El factorial de {numero} es: {factorial}\")"
      ],
      "metadata": {
        "colab": {
          "base_uri": "https://localhost:8080/"
        },
        "id": "HWs5ozpWa4U2",
        "outputId": "b459e191-7ae9-4ab2-cef2-7317fb050b20"
      },
      "execution_count": null,
      "outputs": [
        {
          "output_type": "stream",
          "name": "stdout",
          "text": [
            "Ingrese un número:\n",
            "3\n",
            "El factorial de 3 es: 6\n"
          ]
        }
      ]
    },
    {
      "cell_type": "markdown",
      "source": [
        "**Momento de los proyectos**\n",
        "\n",
        "6 - Escribe un programa que genere la tabla de multiplicar de un número entero del 1 al 10, según la elección del usuario. Como ejemplo, para el número 2, la tabla de multiplicar debe mostrarse en el siguiente formato:\n",
        "\n",
        "Tabla de multiplicar del 2:\n",
        "2 x 1 = 2\n",
        "2 x 2 = 4\n",
        "[...]\n",
        "2 x 10 = 20\n",
        "Copia el código"
      ],
      "metadata": {
        "id": "NHUiZ-n0jXXK"
      }
    },
    {
      "cell_type": "code",
      "source": [
        "numero = int(input('Ingrese un número:\\n'))\n",
        "for i in range(1,11):\n",
        "  print(f'{numero} x {i} = {numero*i}')"
      ],
      "metadata": {
        "id": "s8a3Gz4ajb4M",
        "colab": {
          "base_uri": "https://localhost:8080/"
        },
        "outputId": "c5fb0bae-c159-4e3c-d229-128e56e2993e"
      },
      "execution_count": null,
      "outputs": [
        {
          "output_type": "stream",
          "name": "stdout",
          "text": [
            "Ingrese un número:\n",
            "4\n",
            "4 x 1 = 4\n",
            "4 x 2 = 8\n",
            "4 x 3 = 12\n",
            "4 x 4 = 16\n",
            "4 x 5 = 20\n",
            "4 x 6 = 24\n",
            "4 x 7 = 28\n",
            "4 x 8 = 32\n",
            "4 x 9 = 36\n",
            "4 x 10 = 40\n"
          ]
        }
      ]
    },
    {
      "cell_type": "markdown",
      "source": [
        "7 - Los números primos tienen diversas aplicaciones en Ciencia de Datos, como en criptografía y seguridad. Un número primo es aquel que es divisible solo por sí mismo y por 1. Por lo tanto, crea un programa que solicite un número entero y determine si es un número primo o no."
      ],
      "metadata": {
        "id": "-4Csob1o2GAt"
      }
    },
    {
      "cell_type": "code",
      "source": [
        "numero = int(input('Ingrese un número entero:\\n'))\n",
        "if(numero % 2 !=0):\n",
        "  print(f'El número {numero} es primo')\n",
        "else:\n",
        "  print(f'El número {numero} no es primo')\n"
      ],
      "metadata": {
        "colab": {
          "base_uri": "https://localhost:8080/"
        },
        "id": "hREUgd4y2KHI",
        "outputId": "f2bd143c-c066-4f4a-cfd4-b7c9bdecd9f3"
      },
      "execution_count": null,
      "outputs": [
        {
          "output_type": "stream",
          "name": "stdout",
          "text": [
            "Ingrese un número entero:\n",
            "3\n",
            "El número 3 es primo\n"
          ]
        }
      ]
    },
    {
      "cell_type": "markdown",
      "source": [
        "8 - Vamos a comprender la distribución de edades de los pensionistas de una empresa de seguros. Escribe un programa que lea las edades de una cantidad no informada de clientes y muestre la distribución en los intervalos [0-25], [26-50], [51-75] y [76-100]. La entrada de datos se detendrá al ingresar un número negativo."
      ],
      "metadata": {
        "id": "TD3_3bKh4-U4"
      }
    },
    {
      "cell_type": "code",
      "source": [
        "contador_0_25 = []\n",
        "contador_26_50 = []\n",
        "contador_51_75 = []\n",
        "contador_76_100 = []\n",
        "edades_invalidas = []\n",
        "edad = int(input('Ingrese la edadd de un pensionista o un número negativo para terminar el proceso:\\n'))\n",
        "while edad>=0:\n",
        "  if(0 <= edad <= 25):\n",
        "    contador_0_25.append(edad)\n",
        "  elif(26 <= edad <= 50 ):\n",
        "    contador_26_50.append(edad)\n",
        "  elif(51 <= edad <= 75):\n",
        "    contador_51_75.append(edad)\n",
        "  elif(76 <= edad <= 100):\n",
        "    contador_76_100.append(edad)\n",
        "  else:\n",
        "    print('Edad fuera de los rangos (0-100) no será tenida en cuenta')\n",
        "    edades_invalidas.append(edad)\n",
        "  edad = int(input('Ingrese otra  edad de un pensionista o un número negativo para terminar el proceso:\\n'))\n",
        "##Resultados:\n",
        "print('\\nDistribución de edades:')\n",
        "print(f'[0-25]: {len(contador_0_25)}. Edades: {contador_0_25}')\n",
        "print(f'[26-50]: {len(contador_26_50)}. Edades: {contador_26_50}')\n",
        "print(f'[51-75]: {len(contador_51_75)}. Edades: {contador_51_75}')\n",
        "print(f'[76-100]: {len(contador_76_100)}. Edades: {contador_76_100}')\n",
        "print(f'[Edades fuera de rango o inválidas]: {len(edades_invalidas)}. Edades: {edades_invalidas}')\n",
        "\n"
      ],
      "metadata": {
        "colab": {
          "base_uri": "https://localhost:8080/"
        },
        "id": "ZMKm2pww7jBl",
        "outputId": "33ceeefd-423e-4fbb-95e7-413dd9eb19be"
      },
      "execution_count": null,
      "outputs": [
        {
          "output_type": "stream",
          "name": "stdout",
          "text": [
            "Ingrese la edadd de un pensionista o un número negativo para terminar el proceso:\n",
            "102\n",
            "Ingrese otra  edad de un pensionista o un número negativo para terminar el proceso:\n",
            "-1\n",
            "\n",
            "Distribución de edades:\n",
            "[0-25]: 0. Edades: []\n",
            "[26-50]: 0. Edades: []\n",
            "[51-75]: 0. Edades: []\n",
            "[76-100]: 0. Edades: []\n",
            "[Edades inválidas]: 1. Edades invalidas: [102]\n"
          ]
        }
      ]
    },
    {
      "cell_type": "markdown",
      "source": [
        "9 - En una elección para la gerencia de una empresa con 20 empleados, hay cuatro candidatos. Escribe un programa que calcule al ganador de la elección. La votación se realizó de la siguiente manera:\n",
        "\n",
        "Cada empleado votó por uno de los cuatro candidatos (representados por los números 1, 2, 3 y 4).\n",
        "\n",
        "También se contaron los votos nulos (representados por el número 5) y los votos en blanco (representados por el número 6).\n",
        "\n",
        "Al final de la votación, el programa debe mostrar el número total de votos para cada candidato, los votos nulos y los votos en blanco. Además, debe calcular y mostrar el porcentaje de votos nulos con respecto al total de votos y el porcentaje de votos en blanco con respecto al total de votos.\n",
        "\n",
        "Si necesitas ayuda, las soluciones a las actividades están disponibles en la sección \"Opinión del instructor\"."
      ],
      "metadata": {
        "id": "ZuExYPBNH6f3"
      }
    },
    {
      "cell_type": "code",
      "source": [
        "# Inicialización de contadores\n",
        "candidato_1 = 0\n",
        "candidato_2 = 0\n",
        "candidato_3 = 0\n",
        "candidato_4 = 0\n",
        "voto_nulo = 0        # Representado por 5\n",
        "voto_en_blanco = 0   # Representado por 6\n",
        "\n",
        "print('==== PROGRAMA PARA CONTEO DE VOTOS CORPORATIVO ====')\n",
        "print('===================================================')\n",
        "\n",
        "total_votos = 0\n",
        "\n",
        "# Se espera 20 votos válidos\n",
        "while total_votos < 20:\n",
        "    try:\n",
        "        voto = int(input(f'\\nEmpleado {total_votos+1}, ingrese su voto:\\n'\n",
        "                         '1: Candidato 1\\n'\n",
        "                         '2: Candidato 2\\n'\n",
        "                         '3: Candidato 3\\n'\n",
        "                         '4: Candidato 4\\n'\n",
        "                         '5: Voto NULO\\n'\n",
        "                         '6: Voto en BLANCO\\n'\n",
        "                         'Opción: '))\n",
        "\n",
        "        if voto == 1:\n",
        "            candidato_1 += 1\n",
        "            total_votos += 1\n",
        "        elif voto == 2:\n",
        "            candidato_2 += 1\n",
        "            total_votos += 1\n",
        "        elif voto == 3:\n",
        "            candidato_3 += 1\n",
        "            total_votos += 1\n",
        "        elif voto == 4:\n",
        "            candidato_4 += 1\n",
        "            total_votos += 1\n",
        "        elif voto == 5:\n",
        "            voto_nulo += 1\n",
        "            total_votos += 1\n",
        "        elif voto == 6:\n",
        "            voto_en_blanco += 1\n",
        "            total_votos += 1\n",
        "        else:\n",
        "            print(\"⚠️ Opción no válida. Por favor, intente de nuevo.\")\n",
        "    except ValueError:\n",
        "        print(\"⚠️ Entrada inválida. Debe ingresar un número entero.\")\n",
        "\n",
        "# Resultados\n",
        "print('\\n=========== RESULTADOS FINALES ===========')\n",
        "print(f'Candidato 1: {candidato_1} votos')\n",
        "print(f'Candidato 2: {candidato_2} votos')\n",
        "print(f'Candidato 3: {candidato_3} votos')\n",
        "print(f'Candidato 4: {candidato_4} votos')\n",
        "print(f'Votos NULOS: {voto_nulo}')\n",
        "print(f'Votos en BLANCO: {voto_en_blanco}')\n",
        "\n",
        "# Cálculo de porcentajes\n",
        "print('\\n=========== ESTADÍSTICAS ===========')\n",
        "print(f'Porcentaje de votos NULOS: {(voto_nulo / 20) * 100:.2f}%')\n",
        "print(f'Porcentaje de votos en BLANCO: {(voto_en_blanco / 20) * 100:.2f}%')\n",
        "\n",
        "# Determinar el ganador\n",
        "votos_candidatos = {\n",
        "    'Candidato 1': candidato_1,\n",
        "    'Candidato 2': candidato_2,\n",
        "    'Candidato 3': candidato_3,\n",
        "    'Candidato 4': candidato_4\n",
        "}\n",
        "ganador = max(votos_candidatos, key=votos_candidatos.get)\n",
        "print(f'\\n🏆 El ganador de la elección es: {ganador} con {votos_candidatos[ganador]} votos.')\n",
        "print(ganador)"
      ],
      "metadata": {
        "id": "P6QYvoYXH7J4",
        "colab": {
          "base_uri": "https://localhost:8080/"
        },
        "outputId": "ed1cfb6d-10d4-4aac-bd51-6f8f29acbf3b"
      },
      "execution_count": 1,
      "outputs": [
        {
          "output_type": "stream",
          "name": "stdout",
          "text": [
            "==== PROGRAMA PARA CONTEO DE VOTOS CORPORATIVO ====\n",
            "===================================================\n",
            "\n",
            "Empleado 1, ingrese su voto:\n",
            "1: Candidato 1\n",
            "2: Candidato 2\n",
            "3: Candidato 3\n",
            "4: Candidato 4\n",
            "5: Voto NULO\n",
            "6: Voto en BLANCO\n",
            "Opción: 1\n",
            "\n",
            "Empleado 2, ingrese su voto:\n",
            "1: Candidato 1\n",
            "2: Candidato 2\n",
            "3: Candidato 3\n",
            "4: Candidato 4\n",
            "5: Voto NULO\n",
            "6: Voto en BLANCO\n",
            "Opción: 2\n",
            "\n",
            "Empleado 3, ingrese su voto:\n",
            "1: Candidato 1\n",
            "2: Candidato 2\n",
            "3: Candidato 3\n",
            "4: Candidato 4\n",
            "5: Voto NULO\n",
            "6: Voto en BLANCO\n",
            "Opción: 3\n",
            "\n",
            "Empleado 4, ingrese su voto:\n",
            "1: Candidato 1\n",
            "2: Candidato 2\n",
            "3: Candidato 3\n",
            "4: Candidato 4\n",
            "5: Voto NULO\n",
            "6: Voto en BLANCO\n",
            "Opción: 4\n",
            "\n",
            "Empleado 5, ingrese su voto:\n",
            "1: Candidato 1\n",
            "2: Candidato 2\n",
            "3: Candidato 3\n",
            "4: Candidato 4\n",
            "5: Voto NULO\n",
            "6: Voto en BLANCO\n",
            "Opción: 3\n",
            "\n",
            "Empleado 6, ingrese su voto:\n",
            "1: Candidato 1\n",
            "2: Candidato 2\n",
            "3: Candidato 3\n",
            "4: Candidato 4\n",
            "5: Voto NULO\n",
            "6: Voto en BLANCO\n",
            "Opción: 5\n",
            "\n",
            "Empleado 7, ingrese su voto:\n",
            "1: Candidato 1\n",
            "2: Candidato 2\n",
            "3: Candidato 3\n",
            "4: Candidato 4\n",
            "5: Voto NULO\n",
            "6: Voto en BLANCO\n",
            "Opción: 2\n",
            "\n",
            "Empleado 8, ingrese su voto:\n",
            "1: Candidato 1\n",
            "2: Candidato 2\n",
            "3: Candidato 3\n",
            "4: Candidato 4\n",
            "5: Voto NULO\n",
            "6: Voto en BLANCO\n",
            "Opción: 5\n",
            "\n",
            "Empleado 9, ingrese su voto:\n",
            "1: Candidato 1\n",
            "2: Candidato 2\n",
            "3: Candidato 3\n",
            "4: Candidato 4\n",
            "5: Voto NULO\n",
            "6: Voto en BLANCO\n",
            "Opción: 3\n",
            "\n",
            "Empleado 10, ingrese su voto:\n",
            "1: Candidato 1\n",
            "2: Candidato 2\n",
            "3: Candidato 3\n",
            "4: Candidato 4\n",
            "5: Voto NULO\n",
            "6: Voto en BLANCO\n",
            "Opción: 3\n",
            "\n",
            "Empleado 11, ingrese su voto:\n",
            "1: Candidato 1\n",
            "2: Candidato 2\n",
            "3: Candidato 3\n",
            "4: Candidato 4\n",
            "5: Voto NULO\n",
            "6: Voto en BLANCO\n",
            "Opción: 5\n",
            "\n",
            "Empleado 12, ingrese su voto:\n",
            "1: Candidato 1\n",
            "2: Candidato 2\n",
            "3: Candidato 3\n",
            "4: Candidato 4\n",
            "5: Voto NULO\n",
            "6: Voto en BLANCO\n",
            "Opción: 6\n",
            "\n",
            "Empleado 13, ingrese su voto:\n",
            "1: Candidato 1\n",
            "2: Candidato 2\n",
            "3: Candidato 3\n",
            "4: Candidato 4\n",
            "5: Voto NULO\n",
            "6: Voto en BLANCO\n",
            "Opción: 3\n",
            "\n",
            "Empleado 14, ingrese su voto:\n",
            "1: Candidato 1\n",
            "2: Candidato 2\n",
            "3: Candidato 3\n",
            "4: Candidato 4\n",
            "5: Voto NULO\n",
            "6: Voto en BLANCO\n",
            "Opción: q\n",
            "⚠️ Entrada inválida. Debe ingresar un número entero.\n",
            "\n",
            "Empleado 14, ingrese su voto:\n",
            "1: Candidato 1\n",
            "2: Candidato 2\n",
            "3: Candidato 3\n",
            "4: Candidato 4\n",
            "5: Voto NULO\n",
            "6: Voto en BLANCO\n",
            "Opción: 2\n",
            "\n",
            "Empleado 15, ingrese su voto:\n",
            "1: Candidato 1\n",
            "2: Candidato 2\n",
            "3: Candidato 3\n",
            "4: Candidato 4\n",
            "5: Voto NULO\n",
            "6: Voto en BLANCO\n",
            "Opción: 3\n",
            "\n",
            "Empleado 16, ingrese su voto:\n",
            "1: Candidato 1\n",
            "2: Candidato 2\n",
            "3: Candidato 3\n",
            "4: Candidato 4\n",
            "5: Voto NULO\n",
            "6: Voto en BLANCO\n",
            "Opción: q\n",
            "⚠️ Entrada inválida. Debe ingresar un número entero.\n",
            "\n",
            "Empleado 16, ingrese su voto:\n",
            "1: Candidato 1\n",
            "2: Candidato 2\n",
            "3: Candidato 3\n",
            "4: Candidato 4\n",
            "5: Voto NULO\n",
            "6: Voto en BLANCO\n",
            "Opción: 3\n",
            "\n",
            "Empleado 17, ingrese su voto:\n",
            "1: Candidato 1\n",
            "2: Candidato 2\n",
            "3: Candidato 3\n",
            "4: Candidato 4\n",
            "5: Voto NULO\n",
            "6: Voto en BLANCO\n",
            "Opción: 4\n",
            "\n",
            "Empleado 18, ingrese su voto:\n",
            "1: Candidato 1\n",
            "2: Candidato 2\n",
            "3: Candidato 3\n",
            "4: Candidato 4\n",
            "5: Voto NULO\n",
            "6: Voto en BLANCO\n",
            "Opción: 5\n",
            "\n",
            "Empleado 19, ingrese su voto:\n",
            "1: Candidato 1\n",
            "2: Candidato 2\n",
            "3: Candidato 3\n",
            "4: Candidato 4\n",
            "5: Voto NULO\n",
            "6: Voto en BLANCO\n",
            "Opción: 6\n",
            "\n",
            "Empleado 20, ingrese su voto:\n",
            "1: Candidato 1\n",
            "2: Candidato 2\n",
            "3: Candidato 3\n",
            "4: Candidato 4\n",
            "5: Voto NULO\n",
            "6: Voto en BLANCO\n",
            "Opción: 7\n",
            "⚠️ Opción no válida. Por favor, intente de nuevo.\n",
            "\n",
            "Empleado 20, ingrese su voto:\n",
            "1: Candidato 1\n",
            "2: Candidato 2\n",
            "3: Candidato 3\n",
            "4: Candidato 4\n",
            "5: Voto NULO\n",
            "6: Voto en BLANCO\n",
            "Opción: 6\n",
            "\n",
            "=========== RESULTADOS FINALES ===========\n",
            "Candidato 1: 1 votos\n",
            "Candidato 2: 3 votos\n",
            "Candidato 3: 7 votos\n",
            "Candidato 4: 2 votos\n",
            "Votos NULOS: 4\n",
            "Votos en BLANCO: 3\n",
            "\n",
            "=========== ESTADÍSTICAS ===========\n",
            "Porcentaje de votos NULOS: 20.00%\n",
            "Porcentaje de votos en BLANCO: 15.00%\n",
            "\n",
            "🏆 El ganador de la elección es: Candidato 3 con 7 votos.\n",
            "Candidato 3\n"
          ]
        }
      ]
    }
  ]
}