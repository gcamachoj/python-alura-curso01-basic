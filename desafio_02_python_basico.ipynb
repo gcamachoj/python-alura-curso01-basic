{
  "nbformat": 4,
  "nbformat_minor": 0,
  "metadata": {
    "colab": {
      "provenance": [],
      "authorship_tag": "ABX9TyPMsCX66WrC0vAoFZ1TEbtf",
      "include_colab_link": true
    },
    "kernelspec": {
      "name": "python3",
      "display_name": "Python 3"
    },
    "language_info": {
      "name": "python"
    }
  },
  "cells": [
    {
      "cell_type": "markdown",
      "metadata": {
        "id": "view-in-github",
        "colab_type": "text"
      },
      "source": [
        "<a href=\"https://colab.research.google.com/github/gcamachoj/python-alura-curso01-basic/blob/main/desafio_02_python_basico.ipynb\" target=\"_parent\"><img src=\"https://colab.research.google.com/assets/colab-badge.svg\" alt=\"Open In Colab\"/></a>"
      ]
    },
    {
      "cell_type": "markdown",
      "source": [
        "# Desafio 02 - Alura - python"
      ],
      "metadata": {
        "id": "lunj_jc-Oahb"
      }
    },
    {
      "cell_type": "markdown",
      "source": [
        "**Este desafio aplica solo para uso de variables y funciones incorporadas para manejo de texto. No incluye POO ni funciones definidas por el usuario, en algunos casos puede contener bucles. Lo anterior con el fin de practicar lo visto hasta la temática relacionada.**"
      ],
      "metadata": {
        "id": "PRYyshxoltsu"
      }
    },
    {
      "cell_type": "markdown",
      "source": [
        "Vamos a practicar el uso de varios tipos de variables y la función input a través de algunas actividades. Resuelve los problemas propuestos en código.\n",
        "\n",
        "## Recopilación y muestra de datos\n",
        "\n",
        "1 - Crea un programa que solicite al usuario que escriba su nombre y luego imprima \"Hola, [nombre].\"\n"
      ],
      "metadata": {
        "id": "skkxKYcnMWfQ"
      }
    },
    {
      "cell_type": "code",
      "source": [
        "nombre = input(\"Escriba su nombre: \")\n",
        "print(\"Hola\", nombre)"
      ],
      "metadata": {
        "colab": {
          "base_uri": "https://localhost:8080/"
        },
        "id": "3d2OccL-MXOb",
        "outputId": "2526099f-bc8e-4882-c943-4fcd25ccc874"
      },
      "execution_count": null,
      "outputs": [
        {
          "output_type": "stream",
          "name": "stdout",
          "text": [
            "Escriba su nombre: pepe\n",
            "Hola pepe\n"
          ]
        }
      ]
    },
    {
      "cell_type": "markdown",
      "source": [
        "2 - Crea un programa que solicite al usuario que escriba su nombre y edad, y luego imprima \"Hola, [nombre], tienes [edad] años.\""
      ],
      "metadata": {
        "id": "1Kzus5XwM4Rv"
      }
    },
    {
      "cell_type": "code",
      "source": [
        "nombre = input('Escriba su nombre: ')\n",
        "edad = input('Escriba su edad (años): ')\n",
        "print('Hola ', nombre, 'tienes ', edad, 'años')"
      ],
      "metadata": {
        "colab": {
          "base_uri": "https://localhost:8080/"
        },
        "id": "9qr90SNeM2Cm",
        "outputId": "3522850e-d67a-49a0-b552-2bda72dc376c"
      },
      "execution_count": null,
      "outputs": [
        {
          "output_type": "stream",
          "name": "stdout",
          "text": [
            "Escriba su nombre: Juanfer\n",
            "Escriba su edad (años): 23\n",
            "Hola  Juanfer tienes  23 años\n"
          ]
        }
      ]
    },
    {
      "cell_type": "markdown",
      "source": [
        "3 - Crea un programa que solicite al usuario que escriba su nombre, edad y altura en metros, y luego imprima \"Hola, [nombre], tienes [edad] años y mides [altura] metros.\"\n",
        "\n"
      ],
      "metadata": {
        "id": "J4kvEjmCNh2R"
      }
    },
    {
      "cell_type": "code",
      "source": [
        "nombre = input('Escriba su nombre: ')\n",
        "edad = input('Escriba su edad: ')\n",
        "altura = input('Escriba su altura en metros: ')\n",
        "print('Hola ', nombre, ' tienes ', edad, ' y mides ', altura, ' metros.' )"
      ],
      "metadata": {
        "colab": {
          "base_uri": "https://localhost:8080/"
        },
        "id": "EgMpUuJ9NiUL",
        "outputId": "3bfed54d-ce1c-4205-f03f-0b679332a80f"
      },
      "execution_count": null,
      "outputs": [
        {
          "output_type": "stream",
          "name": "stdout",
          "text": [
            "Escriba su nombre: Guille\n",
            "Escriba su edad: 30\n",
            "Escriba su altura en metros: 130\n",
            "Hola  Guille  tienes  30  y mides  130  metros.\n"
          ]
        }
      ]
    },
    {
      "cell_type": "markdown",
      "source": [
        "##Calculadora con operadores\n",
        "\n"
      ],
      "metadata": {
        "id": "ursPa4cXOOv0"
      }
    },
    {
      "cell_type": "markdown",
      "source": [],
      "metadata": {
        "id": "I5I__CM6OjA8"
      }
    },
    {
      "cell_type": "markdown",
      "source": [
        "4 - Crea un programa que solicite dos valores numéricos al usuario y luego imprima la suma de ambos valores."
      ],
      "metadata": {
        "id": "IaAb0K0SOk9J"
      }
    },
    {
      "cell_type": "code",
      "source": [
        "valor_1 = int(input('Ingrese el primer valor: '))\n",
        "valor_2 = int(input('Ingrese el segundo valor: '))\n",
        "print(valor_1 + valor_2)"
      ],
      "metadata": {
        "colab": {
          "base_uri": "https://localhost:8080/"
        },
        "id": "_uG-k82ROiTG",
        "outputId": "82a5004c-e109-4f58-ea4e-e569d43254c9"
      },
      "execution_count": null,
      "outputs": [
        {
          "output_type": "stream",
          "name": "stdout",
          "text": [
            "Ingrese el primer valor: 4\n",
            "Ingrese el segundo valor: 5\n",
            "9\n"
          ]
        }
      ]
    },
    {
      "cell_type": "markdown",
      "source": [
        "5 - Crea un programa que solicite tres valores numéricos al usuario y luego imprima la suma de los tres valores.\n"
      ],
      "metadata": {
        "id": "nDBhOTDaO7p7"
      }
    },
    {
      "cell_type": "code",
      "source": [
        "valor_1 = int(input('Ingrese el valor 1: '))\n",
        "valor_2 = int(input('Ingrese el vaor 2: '))\n",
        "valor_3 = int(input('Ingrese el valor 3: '))\n",
        "print(valor_1 + valor_2 + valor_3)"
      ],
      "metadata": {
        "colab": {
          "base_uri": "https://localhost:8080/"
        },
        "id": "JumDA2NyO4T9",
        "outputId": "fe139d9c-3e30-4542-e577-be51b5281278"
      },
      "execution_count": null,
      "outputs": [
        {
          "output_type": "stream",
          "name": "stdout",
          "text": [
            "Ingrese el valor 1: 2\n",
            "Ingrese el vaor 2: 3\n",
            "Ingrese el valor 3: 43\n",
            "48\n"
          ]
        }
      ]
    },
    {
      "cell_type": "markdown",
      "source": [
        "6 - Crea un programa que solicite dos valores numéricos al usuario y luego imprima la resta del primero menos el segundo valor."
      ],
      "metadata": {
        "id": "xfSqCFkmPpNw"
      }
    },
    {
      "cell_type": "code",
      "source": [
        "valor_1 = int(input('Ingrese el valor 1: '))\n",
        "valor_2 = int(input(' Ingrese el valor 2: '))\n",
        "print(\"la resta de los dos valores es: \", valor_1 - valor_2)"
      ],
      "metadata": {
        "colab": {
          "base_uri": "https://localhost:8080/"
        },
        "id": "vlvj-uxsPrgG",
        "outputId": "25b4e2af-93b4-4058-91d8-2336658455f5"
      },
      "execution_count": null,
      "outputs": [
        {
          "output_type": "stream",
          "name": "stdout",
          "text": [
            "Ingrese el valor 1: 32\n",
            " Ingrese el valor 2: 31\n",
            "la resta de los dos valores es:  1\n"
          ]
        }
      ]
    },
    {
      "cell_type": "markdown",
      "source": [
        "7 - Crea un programa que solicite dos valores numéricos al usuario y luego imprima la multiplicación de los dos valores."
      ],
      "metadata": {
        "id": "-v2J6P4pQbFS"
      }
    },
    {
      "cell_type": "code",
      "source": [
        "valor_1 = int(input('Ingrese el valor 1: '))\n",
        "valor_2 = int(input('Ingrese el valor 2: '))\n",
        "print('La multiplicación de los dos valores resulta en: ', valor_1 * valor_2)"
      ],
      "metadata": {
        "colab": {
          "base_uri": "https://localhost:8080/"
        },
        "id": "pRN8ximaQGL4",
        "outputId": "5cbd948a-7b91-4209-cdc2-8f18668727ab"
      },
      "execution_count": null,
      "outputs": [
        {
          "output_type": "stream",
          "name": "stdout",
          "text": [
            "Ingrese el valor 1: 12\n",
            "Ingrese el valor 2: 2\n",
            "La multiplicación de los dos valores resulta en:  24\n"
          ]
        }
      ]
    },
    {
      "cell_type": "markdown",
      "source": [
        "8 - Crea un programa que solicite dos valores numéricos, un numerador y un denominador, y realice la división entre los dos valores. Asegúrate de que el valor del denominador no sea igual a 0."
      ],
      "metadata": {
        "id": "oCKEOvAuQ8ep"
      }
    },
    {
      "cell_type": "code",
      "source": [
        "numerador = int(input('Ingrese el numerador: '))\n",
        "denominador = int(input('Infrese el denominador: '))\n",
        "resultado = numerador/denominador\n",
        "print('El resultado de la división es: ', resultado)"
      ],
      "metadata": {
        "colab": {
          "base_uri": "https://localhost:8080/"
        },
        "id": "fg4MLn4NQ91Y",
        "outputId": "08f5cd2f-ac8c-4b0d-a18c-4907c2795052"
      },
      "execution_count": null,
      "outputs": [
        {
          "output_type": "stream",
          "name": "stdout",
          "text": [
            "Ingrese el numerador: 20\n",
            "Infrese el denominador: 2\n",
            "El resultado de la división es:  10.0\n"
          ]
        }
      ]
    },
    {
      "cell_type": "markdown",
      "source": [
        "9 - Crea un programa que solicite dos valores numéricos, un operador y una potencia, y realice la exponenciación entre estos dos valores."
      ],
      "metadata": {
        "id": "Ie3pEVbYRZR0"
      }
    },
    {
      "cell_type": "code",
      "source": [
        "operador = int(input('Ingrese el operador: '))\n",
        "potencia = int(input('Ingrese la potencia: '))\n",
        "print('El resultado de la potencia es: ', operador**potencia)"
      ],
      "metadata": {
        "colab": {
          "base_uri": "https://localhost:8080/"
        },
        "id": "-3tiNPxgRU_V",
        "outputId": "d0347726-9074-4aa3-ef6b-bbfdff8f6210"
      },
      "execution_count": null,
      "outputs": [
        {
          "output_type": "stream",
          "name": "stdout",
          "text": [
            "Ingrese el operador: 4\n",
            "Ingrese la potencia: 3\n",
            "El resultado de la potencia es:  64\n"
          ]
        }
      ]
    },
    {
      "cell_type": "markdown",
      "source": [
        "10 - Crea un programa que solicite dos valores numéricos, un numerador y un denominador, y realice la división entera entre los dos valores. Asegúrate de que el valor del denominador no sea igual a 0."
      ],
      "metadata": {
        "id": "m67-IrWzSHT4"
      }
    },
    {
      "cell_type": "code",
      "source": [
        "numerador = int(input('Ingrese el numerador: '))\n",
        "denominador = int(input('Ingrese el denominador: '))\n",
        "while denominador==0:\n",
        "  denominador = int(input('Ingrese un valor diferente al cero para el denominador: '))\n",
        "print('El resultado de la división es: ', numerador/denominador)\n",
        "print('El saldo es: ', numerador % denominador)"
      ],
      "metadata": {
        "colab": {
          "base_uri": "https://localhost:8080/"
        },
        "id": "Axw6GIRQR1nG",
        "outputId": "294dd7a9-7ee0-4558-9877-892d179e5e33"
      },
      "execution_count": null,
      "outputs": [
        {
          "output_type": "stream",
          "name": "stdout",
          "text": [
            "Ingrese el numerador: 17\n",
            "Ingrese el denominador: 2\n",
            "El resultado de la división es:  8.5\n",
            "El saldo es:  1\n"
          ]
        }
      ]
    },
    {
      "cell_type": "markdown",
      "source": [
        "11 - Crea un programa que solicite dos valores numéricos, un numerador y un denominador, y devuelva el resto de la división entre los dos valores. Asegúrate de que el valor del denominador no sea igual a 0."
      ],
      "metadata": {
        "id": "pKKRSbpwVa4J"
      }
    },
    {
      "cell_type": "code",
      "source": [
        "v_1 = int(input('Ingrese el valor 1: '))\n",
        "v_2 = int(input('Ingrese el valor 2: '))\n",
        "while v_2 ==0:\n",
        "  v_2= int(input('Ingrese el valor 2:  '))\n",
        "print(float(v_1 % v_2))"
      ],
      "metadata": {
        "colab": {
          "base_uri": "https://localhost:8080/"
        },
        "id": "7UM8RWLoTWlu",
        "outputId": "c7f46039-e120-46c3-cee0-df1438236902"
      },
      "execution_count": null,
      "outputs": [
        {
          "output_type": "stream",
          "name": "stdout",
          "text": [
            "Ingrese el valor 1: 15\n",
            "Ingrese el valor 2: 4\n",
            "3.0\n"
          ]
        }
      ]
    },
    {
      "cell_type": "markdown",
      "source": [
        "12 - Crea un código que solicite las 3 notas de un estudiante e imprima el promedio de las notas."
      ],
      "metadata": {
        "id": "OKNPIf8gYmIP"
      }
    },
    {
      "cell_type": "code",
      "source": [
        "nota_1 = float(input('Ingrese la nota 1: '))\n",
        "nota_2 = float(input('Ingrese la nota 2: '))\n",
        "nota_3 = float(input('Ingrese la nota 3: '))\n",
        "promedio = (nota_1 +nota_2 + nota_3)/3\n",
        "print(f'El promedio de las notas es %.2f' %(promedio))"
      ],
      "metadata": {
        "colab": {
          "base_uri": "https://localhost:8080/"
        },
        "id": "BzaECjxrWN2N",
        "outputId": "95c271ad-cac4-4326-f4f2-638509438933"
      },
      "execution_count": null,
      "outputs": [
        {
          "output_type": "stream",
          "name": "stdout",
          "text": [
            "Ingrese la nota 1: 9\n",
            "Ingrese la nota 2: 9\n",
            "Ingrese la nota 3: 10\n",
            "El promedio de las notas es 9.33\n"
          ]
        }
      ]
    },
    {
      "cell_type": "markdown",
      "source": [
        "13 - Crea un código que calcule e imprima el promedio ponderado de los números 5, 12, 20 y 15 con pesos respectivamente iguales a 1, 2, 3 y 4.\n"
      ],
      "metadata": {
        "id": "fif3iT41bEgW"
      }
    },
    {
      "cell_type": "code",
      "source": [
        "(5*1 + 12*2 + 20*3 + 15*4)/(1+2+3+4)"
      ],
      "metadata": {
        "colab": {
          "base_uri": "https://localhost:8080/"
        },
        "id": "OJzpwYBebGKA",
        "outputId": "18353512-c63a-46c2-c61c-787c2e3f6e40"
      },
      "execution_count": null,
      "outputs": [
        {
          "output_type": "execute_result",
          "data": {
            "text/plain": [
              "14.9"
            ]
          },
          "metadata": {},
          "execution_count": 53
        }
      ]
    },
    {
      "cell_type": "markdown",
      "source": [
        "## Editando Textos"
      ],
      "metadata": {
        "id": "D5_e9v6ydLtV"
      }
    },
    {
      "cell_type": "markdown",
      "source": [
        "14 - Crea una variable llamada \"frase\" y asígnale una cadena de texto de tu elección. Luego, imprime la frase en pantalla."
      ],
      "metadata": {
        "id": "uQbsMna4dWf0"
      }
    },
    {
      "cell_type": "code",
      "source": [
        "frase = 'Esta es una frase'"
      ],
      "metadata": {
        "id": "9iKwr7EIdW-c"
      },
      "execution_count": null,
      "outputs": []
    },
    {
      "cell_type": "markdown",
      "source": [
        "15 - Crea un código que solicite una frase y luego imprima la frase en pantalla."
      ],
      "metadata": {
        "id": "bSdIbIsQdemX"
      }
    },
    {
      "cell_type": "code",
      "source": [
        "frase = 'Esta es de nuevo otra frase'\n",
        "print(frase)"
      ],
      "metadata": {
        "colab": {
          "base_uri": "https://localhost:8080/"
        },
        "id": "LSfF6UUxdaJm",
        "outputId": "c03a4278-fb7a-44c6-e5ac-8750fc57fb51"
      },
      "execution_count": null,
      "outputs": [
        {
          "output_type": "stream",
          "name": "stdout",
          "text": [
            "Esta es de nuevo otra frase\n"
          ]
        }
      ]
    },
    {
      "cell_type": "markdown",
      "source": [
        "16 - Crea un código que solicite una frase al usuario y luego imprima la misma frase ingresada pero en mayúsculas."
      ],
      "metadata": {
        "id": "V0ms6_6adnyc"
      }
    },
    {
      "cell_type": "code",
      "source": [
        "frase_16 = input('Ingrese una frase:')\n",
        "print(frase_16.upper())"
      ],
      "metadata": {
        "colab": {
          "base_uri": "https://localhost:8080/"
        },
        "id": "s9dflvhddlCA",
        "outputId": "ad561fbe-a437-440f-c15c-d7791b6bc720"
      },
      "execution_count": null,
      "outputs": [
        {
          "output_type": "stream",
          "name": "stdout",
          "text": [
            "Ingrese una frase:la frase es larga\n",
            "LA FRASE ES LARGA\n"
          ]
        }
      ]
    },
    {
      "cell_type": "markdown",
      "source": [
        "17 - Crea un código que solicite una frase al usuario y luego imprima la misma frase ingresada pero en minúsculas."
      ],
      "metadata": {
        "id": "z0sgimv2eJxb"
      }
    },
    {
      "cell_type": "code",
      "source": [
        "frase_7 = input('Esta es la frase lista')\n",
        "print(frase_7.lower())"
      ],
      "metadata": {
        "colab": {
          "base_uri": "https://localhost:8080/"
        },
        "id": "Lg0U_Lvkd0ME",
        "outputId": "be8bdd60-bf4f-4507-bc53-6230363cdd38"
      },
      "execution_count": null,
      "outputs": [
        {
          "output_type": "stream",
          "name": "stdout",
          "text": [
            "Esta es la frase listaVALIDACION\n",
            "validacion\n"
          ]
        }
      ]
    },
    {
      "cell_type": "markdown",
      "source": [
        "18 - Crea una variable llamada \"frase\" y asígnale una cadena de texto de tu elección. Luego, imprime la frase sin espacios en blanco al principio y al final."
      ],
      "metadata": {
        "id": "oGzyDeh3eqfl"
      }
    },
    {
      "cell_type": "code",
      "source": [
        "frase_18 = \"  Esta es una practica sobre frases interesante  \"\n",
        "frase_18.strip()"
      ],
      "metadata": {
        "colab": {
          "base_uri": "https://localhost:8080/",
          "height": 35
        },
        "id": "CBpXMfQWeTyg",
        "outputId": "51bb2746-29e5-422d-c65b-4a4abf5de9d9"
      },
      "execution_count": null,
      "outputs": [
        {
          "output_type": "execute_result",
          "data": {
            "text/plain": [
              "'Esta es una practica sobre frases interesante'"
            ],
            "application/vnd.google.colaboratory.intrinsic+json": {
              "type": "string"
            }
          },
          "metadata": {},
          "execution_count": 71
        }
      ]
    },
    {
      "cell_type": "markdown",
      "source": [
        "19 - Crea un código que solicite una frase al usuario y luego imprima la misma frase sin espacios en blanco al principio y al final."
      ],
      "metadata": {
        "id": "apfwQfOAgFgc"
      }
    },
    {
      "cell_type": "code",
      "source": [
        "frase_19 =  input('Ingrese una frase: ')\n",
        "print(frase_19.strip())"
      ],
      "metadata": {
        "id": "ahH2bVHse4Gg",
        "colab": {
          "base_uri": "https://localhost:8080/"
        },
        "outputId": "291970d7-3c50-4e86-e553-b0fe67a85f6f"
      },
      "execution_count": null,
      "outputs": [
        {
          "output_type": "stream",
          "name": "stdout",
          "text": [
            "Ingrese una frase:    hola pedro. Estás en casa   \n",
            "hola pedro. Estás en casa\n"
          ]
        }
      ]
    },
    {
      "cell_type": "markdown",
      "source": [
        "20 - Crea un código que solicite una frase al usuario y luego imprima la misma frase sin espacios en blanco al principio y al final, además de convertirla a minúsculas."
      ],
      "metadata": {
        "id": "dmd73nVNJNXj"
      }
    },
    {
      "cell_type": "code",
      "source": [
        "frase_20 = input('Ingrese una  nueva frase: ')\n",
        "print(frase_20.strip().lower())"
      ],
      "metadata": {
        "colab": {
          "base_uri": "https://localhost:8080/"
        },
        "id": "cCR0M1SBJOT7",
        "outputId": "49d0da33-ff27-434c-d8a5-3d634d46be62"
      },
      "execution_count": null,
      "outputs": [
        {
          "output_type": "stream",
          "name": "stdout",
          "text": [
            "Ingrese una  nueva frase:      CADA ACCIÓN DESENCADENA UNA REACCION   \n",
            "cada acción desencadena una reaccion\n"
          ]
        }
      ]
    },
    {
      "cell_type": "markdown",
      "source": [
        "21 - Crea un código que solicite una frase al usuario y luego imprima la misma frase con todas las vocales \"e\" reemplazadas por la letra \"f\"."
      ],
      "metadata": {
        "id": "FPaeNsN0KJN8"
      }
    },
    {
      "cell_type": "code",
      "source": [
        "frase_21 = input('Ingrese una frase:')\n",
        "print(frase_21.replace('e', 'f').replace('E','f'))"
      ],
      "metadata": {
        "colab": {
          "base_uri": "https://localhost:8080/"
        },
        "id": "npPChsPmJ9dD",
        "outputId": "473474fe-721b-4a17-e840-d2ed0fb2809d"
      },
      "execution_count": null,
      "outputs": [
        {
          "output_type": "stream",
          "name": "stdout",
          "text": [
            "Ingrese una frase:pedro esta en estado feliz\n",
            "pfdro fsta fn fstado ffliz\n"
          ]
        }
      ]
    },
    {
      "cell_type": "markdown",
      "source": [
        "22 - Crea un código que solicite una frase al usuario y luego imprima la misma frase con todas las vocales \"a\" reemplazadas por el carácter \"@\"."
      ],
      "metadata": {
        "id": "mBMMwl4zLm90"
      }
    },
    {
      "cell_type": "code",
      "source": [
        "frase_22 = input('Ingrese una frase: ')\n",
        "print(frase_22.replace('a', '@'))"
      ],
      "metadata": {
        "colab": {
          "base_uri": "https://localhost:8080/"
        },
        "id": "xf-skvKOKr_I",
        "outputId": "19a23195-001b-43ba-9f82-9a5bddc1260e"
      },
      "execution_count": null,
      "outputs": [
        {
          "output_type": "stream",
          "name": "stdout",
          "text": [
            "Ingrese una frase: hola amigo\n",
            "hol@ @migo\n"
          ]
        }
      ]
    },
    {
      "cell_type": "markdown",
      "source": [
        "23 - Crea un código que solicite una frase al usuario y luego imprima la misma frase con todas las consonantes \"s\" reemplazadas por el carácter \"$\"."
      ],
      "metadata": {
        "id": "kCiTZ_d6MvZb"
      }
    },
    {
      "cell_type": "code",
      "source": [
        "frase_23 = input('Ingrese una frase: ')\n",
        "print(frase_23.replace('s','$'))"
      ],
      "metadata": {
        "colab": {
          "base_uri": "https://localhost:8080/"
        },
        "id": "fXhjVex8MrRN",
        "outputId": "c294e2dc-c8db-4c68-f125-fce7e4debdb7"
      },
      "execution_count": null,
      "outputs": [
        {
          "output_type": "stream",
          "name": "stdout",
          "text": [
            "Ingrese una frase: Holas a todas\n",
            "Hola$ a toda$\n"
          ]
        }
      ]
    },
    {
      "cell_type": "code",
      "source": [],
      "metadata": {
        "id": "isDvKf2bNCtj"
      },
      "execution_count": null,
      "outputs": []
    }
  ]
}